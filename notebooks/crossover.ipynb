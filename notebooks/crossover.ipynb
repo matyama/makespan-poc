{
 "cells": [
  {
   "cell_type": "markdown",
   "metadata": {},
   "source": [
    "# Crossover analysis for Evolutionary Algorithms"
   ]
  },
  {
   "cell_type": "code",
   "execution_count": 1,
   "metadata": {},
   "outputs": [],
   "source": [
    "import sys\n",
    "sys.path.append('../src/')\n",
    "\n",
    "%load_ext autoreload\n",
    "%autoreload 2\n",
    "%matplotlib inline\n",
    "\n",
    "import pandas as pd\n",
    "import matplotlib\n",
    "import matplotlib.pyplot as plt\n",
    "\n",
    "from alg import *\n",
    "from utils import *"
   ]
  },
  {
   "cell_type": "code",
   "execution_count": 2,
   "metadata": {},
   "outputs": [],
   "source": [
    "num_trials = 5\n",
    "pop_size = 50\n",
    "max_iters = 200\n",
    "resources = [5, 10, 20]\n",
    "\n",
    "def three_point_crossover(x, y):\n",
    "    return npoint_crossover(x, y, n=3)\n",
    "\n",
    "crossovers = [one_point_crossover, two_point_crossover, three_point_crossover, uniform_crossover]\n",
    "\n",
    "def eval_lpt(R, get_instance):\n",
    "    _, m, r, = lpt(R, p=get_instance(R))\n",
    "    return m / r, m\n",
    "\n",
    "def makespan(R, p, xover):\n",
    "    _, m = evolve(\n",
    "        R=R,\n",
    "        p=p,\n",
    "        mate=xover,\n",
    "        mutate=mutation(vec_tweak, R),\n",
    "        pop_size=pop_size,\n",
    "        max_iters=max_iters,\n",
    "        penalize=False,\n",
    "    )\n",
    "    return m\n",
    "\n",
    "def evaluate(xover, get_instance):\n",
    "    for R in resources:\n",
    "        yield sum(makespan(R, get_instance(R), xover) for _ in range(num_trials)) / num_trials"
   ]
  },
  {
   "cell_type": "markdown",
   "metadata": {},
   "source": [
    "## Comparison on random instance\n",
    "TODO"
   ]
  },
  {
   "cell_type": "code",
   "execution_count": 3,
   "metadata": {},
   "outputs": [],
   "source": [
    "#lpt_df = pd.DataFrame(data=(eval_lpt(R, sample_instance) for R in resources), index=resources, columns=['opt-bound', 'lpt'])\n",
    "#(lpt_df['lpt'] - lpt_df['opt-bound']).plot.bar(xlabel='#resources', ylabel='quality(LPT) - quality(opt-bound)', title='Worst-case sub-optimality of LPT')"
   ]
  },
  {
   "cell_type": "code",
   "execution_count": 4,
   "metadata": {},
   "outputs": [],
   "source": [
    "# ea_df = pd.DataFrame({xover.__name__: evaluate(xover, sample_instance) for xover in crossovers}, index=resources)\n",
    "# ea_df"
   ]
  },
  {
   "cell_type": "code",
   "execution_count": 5,
   "metadata": {},
   "outputs": [],
   "source": [
    "# pd.concat([lpt_df, ea_df], axis=1).max()"
   ]
  },
  {
   "cell_type": "code",
   "execution_count": 6,
   "metadata": {},
   "outputs": [],
   "source": [
    "# lpt_ratio_df = ea_df.sub(lpt_df['opt-bound'], axis=0).div(lpt_df.lpt, axis=0)\n",
    "# lpt_ratio_df.plot.barh(xlabel='quality/quality(LPT)', ylabel='#resources (R)', title='Ratio to LPT on SAMPLE_INSTANCE')"
   ]
  },
  {
   "cell_type": "markdown",
   "metadata": {},
   "source": [
    "## Comparison on sub-optimal instance"
   ]
  },
  {
   "cell_type": "code",
   "execution_count": 7,
   "metadata": {},
   "outputs": [
    {
     "data": {
      "text/html": [
       "<div>\n",
       "<style scoped>\n",
       "    .dataframe tbody tr th:only-of-type {\n",
       "        vertical-align: middle;\n",
       "    }\n",
       "\n",
       "    .dataframe tbody tr th {\n",
       "        vertical-align: top;\n",
       "    }\n",
       "\n",
       "    .dataframe thead th {\n",
       "        text-align: right;\n",
       "    }\n",
       "</style>\n",
       "<table border=\"1\" class=\"dataframe\">\n",
       "  <thead>\n",
       "    <tr style=\"text-align: right;\">\n",
       "      <th></th>\n",
       "      <th>opt-bound</th>\n",
       "      <th>lpt</th>\n",
       "      <th>one_point_crossover</th>\n",
       "      <th>two_point_crossover</th>\n",
       "      <th>three_point_crossover</th>\n",
       "      <th>uniform_crossover</th>\n",
       "    </tr>\n",
       "  </thead>\n",
       "  <tbody>\n",
       "    <tr>\n",
       "      <th>5</th>\n",
       "      <td>13.571429</td>\n",
       "      <td>19.0</td>\n",
       "      <td>15.6</td>\n",
       "      <td>16.0</td>\n",
       "      <td>16.0</td>\n",
       "      <td>15.4</td>\n",
       "    </tr>\n",
       "    <tr>\n",
       "      <th>10</th>\n",
       "      <td>28.536585</td>\n",
       "      <td>39.0</td>\n",
       "      <td>33.2</td>\n",
       "      <td>34.2</td>\n",
       "      <td>34.4</td>\n",
       "      <td>34.0</td>\n",
       "    </tr>\n",
       "    <tr>\n",
       "      <th>20</th>\n",
       "      <td>58.518519</td>\n",
       "      <td>79.0</td>\n",
       "      <td>73.4</td>\n",
       "      <td>75.0</td>\n",
       "      <td>72.8</td>\n",
       "      <td>74.6</td>\n",
       "    </tr>\n",
       "  </tbody>\n",
       "</table>\n",
       "</div>"
      ],
      "text/plain": [
       "    opt-bound   lpt  one_point_crossover  two_point_crossover  \\\n",
       "5   13.571429  19.0                 15.6                 16.0   \n",
       "10  28.536585  39.0                 33.2                 34.2   \n",
       "20  58.518519  79.0                 73.4                 75.0   \n",
       "\n",
       "    three_point_crossover  uniform_crossover  \n",
       "5                    16.0               15.4  \n",
       "10                   34.4               34.0  \n",
       "20                   72.8               74.6  "
      ]
     },
     "execution_count": 7,
     "metadata": {},
     "output_type": "execute_result"
    }
   ],
   "source": [
    "lpt_df = pd.DataFrame(data=(eval_lpt(R, suboptimal_instance) for R in resources), index=resources, columns=['opt-bound', 'lpt'])\n",
    "ea_df = pd.DataFrame({xover.__name__: evaluate(xover, suboptimal_instance) for xover in crossovers}, index=resources)\n",
    "\n",
    "pd.concat([lpt_df, ea_df], axis=1)"
   ]
  },
  {
   "cell_type": "code",
   "execution_count": 8,
   "metadata": {},
   "outputs": [
    {
     "data": {
      "text/plain": [
       "<AxesSubplot:title={'center':'Ratio to LPT on sub-optimal instance'}, ylabel='quality/quality(LPT)'>"
      ]
     },
     "execution_count": 8,
     "metadata": {},
     "output_type": "execute_result"
    },
    {
     "data": {
      "image/png": "[encoded data removed]",
      "text/plain": [
       "<Figure size 432x288 with 1 Axes>"
      ]
     },
     "metadata": {
      "needs_background": "light"
     },
     "output_type": "display_data"
    }
   ],
   "source": [
    "lpt_ratio_df = ea_df.sub(lpt_df['opt-bound'], axis=0).div(lpt_df.lpt, axis=0)\n",
    "lpt_ratio_df.plot.barh(xlabel='quality/quality(LPT)', ylabel='#resources (R)', title='Ratio to LPT on sub-optimal instance')"
   ]
  },
  {
   "cell_type": "code",
   "execution_count": null,
   "metadata": {},
   "outputs": [],
   "source": []
  }
 ],
 "metadata": {
  "kernelspec": {
   "display_name": "Python 3",
   "language": "python",
   "name": "python3"
  },
  "language_info": {
   "codemirror_mode": {
    "name": "ipython",
    "version": 3
   },
   "file_extension": ".py",
   "mimetype": "text/x-python",
   "name": "python",
   "nbconvert_exporter": "python",
   "pygments_lexer": "ipython3",
   "version": "3.8.5"
  }
 },
 "nbformat": 4,
 "nbformat_minor": 4
}
