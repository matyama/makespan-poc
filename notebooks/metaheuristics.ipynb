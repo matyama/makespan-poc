{
 "cells": [
  {
   "cell_type": "markdown",
   "metadata": {},
   "source": [
    "# Metaheuristic Algorithms\n",
    "Following sections try some techniques from stochasitic optimization, also known as *metaheuristics*."
   ]
  },
  {
   "cell_type": "code",
   "execution_count": 1,
   "metadata": {},
   "outputs": [],
   "source": [
    "import sys\n",
    "sys.path.append('../src/')\n",
    "\n",
    "%load_ext autoreload\n",
    "%autoreload 2\n",
    "%matplotlib inline\n",
    "\n",
    "import pandas as pd\n",
    "import matplotlib\n",
    "import matplotlib.pyplot as plt\n",
    "\n",
    "from alg import *\n",
    "from utils import *"
   ]
  },
  {
   "cell_type": "code",
   "execution_count": 2,
   "metadata": {},
   "outputs": [
    {
     "data": {
      "text/plain": [
       "<AxesSubplot:xlabel='#resources', ylabel='min. makespan'>"
      ]
     },
     "execution_count": 2,
     "metadata": {},
     "output_type": "execute_result"
    },
    {
     "data": {
      "image/png": "[encoded data removed]",
      "text/plain": [
       "<Figure size 432x288 with 1 Axes>"
      ]
     },
     "metadata": {
      "needs_background": "light"
     },
     "output_type": "display_data"
    }
   ],
   "source": [
    "num_trials = 5\n",
    "max_iters = 1000\n",
    "\n",
    "resources = [2, *range(5, 45, 5)]\n",
    "problem_instances = [(R, suboptimal_instance(R)) for R in resources]\n",
    "\n",
    "def eval_lpt(R, p):\n",
    "    _, m, r, = lpt(R, p)\n",
    "    return m / r, m\n",
    "\n",
    "lpt_df = pd.DataFrame(data=(eval_lpt(R, p) for R, p in problem_instances), index=resources, columns=['opt-bound', 'lpt'])\n",
    "lpt_df.plot.line(xlabel='#resources', ylabel='min. makespan')"
   ]
  },
  {
   "cell_type": "markdown",
   "metadata": {},
   "source": [
    "## Simulated Annealing"
   ]
  },
  {
   "cell_type": "markdown",
   "metadata": {},
   "source": [
    "### Sanity check\n",
    "Note that the optimal value for this instance is 9."
   ]
  },
  {
   "cell_type": "code",
   "execution_count": 3,
   "metadata": {},
   "outputs": [
    {
     "data": {
      "text/plain": [
       "9.0"
      ]
     },
     "execution_count": 3,
     "metadata": {},
     "output_type": "execute_result"
    }
   ],
   "source": [
    "_, makespan = anneal(R=3, p=[5, 5, 4, 4, 3, 3, 3])\n",
    "makespan"
   ]
  },
  {
   "cell_type": "markdown",
   "metadata": {},
   "source": [
    "### SA evaluation\n",
    "Comparison of the solution quality between SA and LPT on problem instances for which LPT is known to be sub-optimal.\n",
    "\n",
    "Because SA is stochastic algorithm we take the mean value evaluated on `num_trials` per problem instance. Futhermore, each run uses `max_iters`.\n",
    "\n",
    "Finally, SA is evaluated for each of the following *tweak* operators:\n",
    "1. `vec_tweak` - for each task re-assign it to random resource with probabilyty `1/n` (`n` is no. tasks)\n",
    "1. `point_tweak` - pick a task at random and assign it to random resource\n",
    "1. `swap_tweak` - pick two tasks at random and swap the resources they are assigned to\n",
    "each operator is then used with/witout fitness penalty `#unused resources * M` where `M` is some big-enough constant (marked with P)."
   ]
  },
  {
   "cell_type": "code",
   "execution_count": 4,
   "metadata": {},
   "outputs": [],
   "source": [
    "def sa_makespan(R, p, tweak, penalize):\n",
    "    _, m = anneal(R, p, tweak, max_iters, penalize=penalize)\n",
    "    return m\n",
    "\n",
    "def evaluate_sa(tweak, penalize):\n",
    "    for R, p in problem_instances:\n",
    "        # mean makespan\n",
    "        yield sum(sa_makespan(R, p, tweak, penalize) for _ in range(num_trials)) / num_trials"
   ]
  },
  {
   "cell_type": "code",
   "execution_count": 5,
   "metadata": {},
   "outputs": [
    {
     "data": {
      "text/html": [
       "<div>\n",
       "<style scoped>\n",
       "    .dataframe tbody tr th:only-of-type {\n",
       "        vertical-align: middle;\n",
       "    }\n",
       "\n",
       "    .dataframe tbody tr th {\n",
       "        vertical-align: top;\n",
       "    }\n",
       "\n",
       "    .dataframe thead th {\n",
       "        text-align: right;\n",
       "    }\n",
       "</style>\n",
       "<table border=\"1\" class=\"dataframe\">\n",
       "  <thead>\n",
       "    <tr style=\"text-align: right;\">\n",
       "      <th></th>\n",
       "      <th>opt-bound</th>\n",
       "      <th>lpt</th>\n",
       "      <th>vec_tweak</th>\n",
       "      <th>point_tweak</th>\n",
       "      <th>swap_tweak</th>\n",
       "    </tr>\n",
       "  </thead>\n",
       "  <tbody>\n",
       "    <tr>\n",
       "      <th>2</th>\n",
       "      <td>4.666667</td>\n",
       "      <td>7.0</td>\n",
       "      <td>6.0</td>\n",
       "      <td>6.0</td>\n",
       "      <td>6.0</td>\n",
       "    </tr>\n",
       "    <tr>\n",
       "      <th>5</th>\n",
       "      <td>13.571429</td>\n",
       "      <td>19.0</td>\n",
       "      <td>17.0</td>\n",
       "      <td>16.6</td>\n",
       "      <td>22.4</td>\n",
       "    </tr>\n",
       "    <tr>\n",
       "      <th>10</th>\n",
       "      <td>28.536585</td>\n",
       "      <td>39.0</td>\n",
       "      <td>41.0</td>\n",
       "      <td>42.0</td>\n",
       "      <td>51.8</td>\n",
       "    </tr>\n",
       "    <tr>\n",
       "      <th>15</th>\n",
       "      <td>43.524590</td>\n",
       "      <td>59.0</td>\n",
       "      <td>69.4</td>\n",
       "      <td>69.6</td>\n",
       "      <td>84.2</td>\n",
       "    </tr>\n",
       "    <tr>\n",
       "      <th>20</th>\n",
       "      <td>58.518519</td>\n",
       "      <td>79.0</td>\n",
       "      <td>96.0</td>\n",
       "      <td>96.6</td>\n",
       "      <td>111.2</td>\n",
       "    </tr>\n",
       "    <tr>\n",
       "      <th>25</th>\n",
       "      <td>73.514851</td>\n",
       "      <td>99.0</td>\n",
       "      <td>130.2</td>\n",
       "      <td>131.4</td>\n",
       "      <td>147.2</td>\n",
       "    </tr>\n",
       "    <tr>\n",
       "      <th>30</th>\n",
       "      <td>88.512397</td>\n",
       "      <td>119.0</td>\n",
       "      <td>173.2</td>\n",
       "      <td>165.4</td>\n",
       "      <td>161.8</td>\n",
       "    </tr>\n",
       "    <tr>\n",
       "      <th>35</th>\n",
       "      <td>103.510638</td>\n",
       "      <td>139.0</td>\n",
       "      <td>205.2</td>\n",
       "      <td>204.0</td>\n",
       "      <td>244.6</td>\n",
       "    </tr>\n",
       "    <tr>\n",
       "      <th>40</th>\n",
       "      <td>118.509317</td>\n",
       "      <td>159.0</td>\n",
       "      <td>241.8</td>\n",
       "      <td>240.2</td>\n",
       "      <td>305.8</td>\n",
       "    </tr>\n",
       "  </tbody>\n",
       "</table>\n",
       "</div>"
      ],
      "text/plain": [
       "     opt-bound    lpt  vec_tweak  point_tweak  swap_tweak\n",
       "2     4.666667    7.0        6.0          6.0         6.0\n",
       "5    13.571429   19.0       17.0         16.6        22.4\n",
       "10   28.536585   39.0       41.0         42.0        51.8\n",
       "15   43.524590   59.0       69.4         69.6        84.2\n",
       "20   58.518519   79.0       96.0         96.6       111.2\n",
       "25   73.514851   99.0      130.2        131.4       147.2\n",
       "30   88.512397  119.0      173.2        165.4       161.8\n",
       "35  103.510638  139.0      205.2        204.0       244.6\n",
       "40  118.509317  159.0      241.8        240.2       305.8"
      ]
     },
     "execution_count": 5,
     "metadata": {},
     "output_type": "execute_result"
    }
   ],
   "source": [
    "tweak_df = pd.DataFrame({tweak.__name__: evaluate_sa(tweak, penalize=False) for tweak in [vec_tweak, point_tweak, swap_tweak]}, index=resources)\n",
    "tweak_df = pd.concat([lpt_df, tweak_df], axis=1)\n",
    "tweak_df"
   ]
  },
  {
   "cell_type": "code",
   "execution_count": 6,
   "metadata": {},
   "outputs": [
    {
     "data": {
      "text/plain": [
       "<AxesSubplot:xlabel='#resources (R)', ylabel='min. makespan (mean for SA)'>"
      ]
     },
     "execution_count": 6,
     "metadata": {},
     "output_type": "execute_result"
    },
    {
     "data": {
      "image/png": "[encoded data removed]",
      "text/plain": [
       "<Figure size 432x288 with 1 Axes>"
      ]
     },
     "metadata": {
      "needs_background": "light"
     },
     "output_type": "display_data"
    }
   ],
   "source": [
    "tweak_df.plot.line(xlabel='#resources (R)', ylabel='min. makespan (mean for SA)')"
   ]
  },
  {
   "cell_type": "markdown",
   "metadata": {},
   "source": [
    "Now let's try one of the better tweak operators with a penalty to solution quality. This penalty is equal to `#unused resources * M` where `M` is some big-enough constant (e.g. `M = sum(p)`)."
   ]
  },
  {
   "cell_type": "code",
   "execution_count": 7,
   "metadata": {},
   "outputs": [
    {
     "data": {
      "text/plain": [
       "<AxesSubplot:xlabel='#resources (R)', ylabel='mean min. makespan (vec_tweak)'>"
      ]
     },
     "execution_count": 7,
     "metadata": {},
     "output_type": "execute_result"
    },
    {
     "data": {
      "image/png": "[encoded data removed]",
      "text/plain": [
       "<Figure size 432x288 with 1 Axes>"
      ]
     },
     "metadata": {
      "needs_background": "light"
     },
     "output_type": "display_data"
    }
   ],
   "source": [
    "tweak_penalty_df = pd.DataFrame(\n",
    "    {\n",
    "        'without penalty': tweak_df['vec_tweak'],\n",
    "        'with penalty': evaluate_sa(tweak=vec_tweak, penalize=True),\n",
    "    },\n",
    "    index=resources,\n",
    ")\n",
    "tweak_penalty_df.plot.line(xlabel='#resources (R)', ylabel='mean min. makespan (vec_tweak)')"
   ]
  },
  {
   "cell_type": "markdown",
   "metadata": {},
   "source": [
    "## Evolutionary strategies\n",
    "- `(num_parents,pop_size)` ES - from a population of size `pop_size` select `num_parents` fittest individuals and create new population by tweaking them\n",
    "- `(num_parents+pop_size)` ES - similar to `(num_parents,pop_size)` ES but parents get automatically promoted to next generation"
   ]
  },
  {
   "cell_type": "markdown",
   "metadata": {},
   "source": [
    "### Sanity check\n",
    "Note that the optimal value for this instance is 9."
   ]
  },
  {
   "cell_type": "code",
   "execution_count": 8,
   "metadata": {},
   "outputs": [
    {
     "data": {
      "text/plain": [
       "9.0"
      ]
     },
     "execution_count": 8,
     "metadata": {},
     "output_type": "execute_result"
    }
   ],
   "source": [
    "_, makespan = evo_strat(R=3, p=[5, 5, 4, 4, 3, 3, 3], tweak=vec_tweak)\n",
    "makespan"
   ]
  },
  {
   "cell_type": "code",
   "execution_count": 9,
   "metadata": {},
   "outputs": [
    {
     "data": {
      "text/plain": [
       "9.0"
      ]
     },
     "execution_count": 9,
     "metadata": {},
     "output_type": "execute_result"
    }
   ],
   "source": [
    "_, makespan = evo_strat(R=3, p=[5, 5, 4, 4, 3, 3, 3], tweak=vec_tweak, elitism=True)\n",
    "makespan"
   ]
  },
  {
   "cell_type": "markdown",
   "metadata": {},
   "source": [
    "### ES evaluation\n",
    "Comparison of the solution quality between both ES and LPT on problem instances where LPT is known to be sub-optimal.\n",
    "\n",
    "There are two main variants of ES (described above) with two main parameters:\n",
    " * `num_parents` - specifies how many fittests individuals participate in creating new generation\n",
    " * `pop_size` - specifies how many children are created in total each generation\n",
    "\n",
    "Because ES is stochastic algorithm we take the mean value evaluated on `num_trials` per problem instance. Futhermore, each run uses `max_iters`. Finally, all ES versions use `vec_tweak` as the mutation operator."
   ]
  },
  {
   "cell_type": "code",
   "execution_count": 10,
   "metadata": {},
   "outputs": [],
   "source": [
    "def es_makespan(R, p, num_parents, pop_size, elitism):\n",
    "    _, m = evo_strat(\n",
    "        R=R,\n",
    "        p=p,\n",
    "        num_parents=num_parents,\n",
    "        pop_size=pop_size,\n",
    "        elitism=elitism,\n",
    "        max_iters=max_iters,\n",
    "        penalize=False,\n",
    "    )\n",
    "    return m\n",
    "\n",
    "def evaluate_es(num_parents, pop_size, elitism):\n",
    "    for R, p in problem_instances:\n",
    "        # mean makespan\n",
    "        yield sum(es_makespan(R, p, num_parents, pop_size, elitism) for _ in range(num_trials)) / num_trials"
   ]
  },
  {
   "cell_type": "code",
   "execution_count": 11,
   "metadata": {},
   "outputs": [
    {
     "data": {
      "text/html": [
       "<div>\n",
       "<style scoped>\n",
       "    .dataframe tbody tr th:only-of-type {\n",
       "        vertical-align: middle;\n",
       "    }\n",
       "\n",
       "    .dataframe tbody tr th {\n",
       "        vertical-align: top;\n",
       "    }\n",
       "\n",
       "    .dataframe thead th {\n",
       "        text-align: right;\n",
       "    }\n",
       "</style>\n",
       "<table border=\"1\" class=\"dataframe\">\n",
       "  <thead>\n",
       "    <tr style=\"text-align: right;\">\n",
       "      <th></th>\n",
       "      <th>opt-bound</th>\n",
       "      <th>lpt</th>\n",
       "      <th>(2,10) ES</th>\n",
       "      <th>(2+10) ES</th>\n",
       "      <th>(2,100) ES</th>\n",
       "      <th>(2+100) ES</th>\n",
       "      <th>(5,10) ES</th>\n",
       "      <th>(5+10) ES</th>\n",
       "      <th>(5,100) ES</th>\n",
       "      <th>(5+100) ES</th>\n",
       "      <th>(10,10) ES</th>\n",
       "      <th>(10+10) ES</th>\n",
       "      <th>(10,100) ES</th>\n",
       "      <th>(10+100) ES</th>\n",
       "    </tr>\n",
       "  </thead>\n",
       "  <tbody>\n",
       "    <tr>\n",
       "      <th>2</th>\n",
       "      <td>4.666667</td>\n",
       "      <td>7.0</td>\n",
       "      <td>6.0</td>\n",
       "      <td>6.0</td>\n",
       "      <td>6.0</td>\n",
       "      <td>6.0</td>\n",
       "      <td>6.0</td>\n",
       "      <td>6.0</td>\n",
       "      <td>6.0</td>\n",
       "      <td>6.0</td>\n",
       "      <td>6.0</td>\n",
       "      <td>6.0</td>\n",
       "      <td>6.0</td>\n",
       "      <td>6.0</td>\n",
       "    </tr>\n",
       "    <tr>\n",
       "      <th>5</th>\n",
       "      <td>13.571429</td>\n",
       "      <td>19.0</td>\n",
       "      <td>16.0</td>\n",
       "      <td>16.4</td>\n",
       "      <td>15.2</td>\n",
       "      <td>15.8</td>\n",
       "      <td>15.8</td>\n",
       "      <td>16.0</td>\n",
       "      <td>15.4</td>\n",
       "      <td>15.6</td>\n",
       "      <td>16.0</td>\n",
       "      <td>16.2</td>\n",
       "      <td>15.6</td>\n",
       "      <td>15.8</td>\n",
       "    </tr>\n",
       "    <tr>\n",
       "      <th>10</th>\n",
       "      <td>28.536585</td>\n",
       "      <td>39.0</td>\n",
       "      <td>33.2</td>\n",
       "      <td>34.6</td>\n",
       "      <td>33.2</td>\n",
       "      <td>33.6</td>\n",
       "      <td>34.8</td>\n",
       "      <td>34.2</td>\n",
       "      <td>32.8</td>\n",
       "      <td>34.0</td>\n",
       "      <td>38.0</td>\n",
       "      <td>34.2</td>\n",
       "      <td>32.2</td>\n",
       "      <td>34.6</td>\n",
       "    </tr>\n",
       "    <tr>\n",
       "      <th>15</th>\n",
       "      <td>43.524590</td>\n",
       "      <td>59.0</td>\n",
       "      <td>52.2</td>\n",
       "      <td>53.0</td>\n",
       "      <td>51.0</td>\n",
       "      <td>51.6</td>\n",
       "      <td>54.8</td>\n",
       "      <td>51.8</td>\n",
       "      <td>49.8</td>\n",
       "      <td>50.6</td>\n",
       "      <td>64.2</td>\n",
       "      <td>55.4</td>\n",
       "      <td>49.6</td>\n",
       "      <td>50.4</td>\n",
       "    </tr>\n",
       "    <tr>\n",
       "      <th>20</th>\n",
       "      <td>58.518519</td>\n",
       "      <td>79.0</td>\n",
       "      <td>70.0</td>\n",
       "      <td>72.4</td>\n",
       "      <td>69.2</td>\n",
       "      <td>70.8</td>\n",
       "      <td>77.2</td>\n",
       "      <td>74.2</td>\n",
       "      <td>67.6</td>\n",
       "      <td>72.0</td>\n",
       "      <td>94.8</td>\n",
       "      <td>72.4</td>\n",
       "      <td>67.2</td>\n",
       "      <td>70.2</td>\n",
       "    </tr>\n",
       "    <tr>\n",
       "      <th>25</th>\n",
       "      <td>73.514851</td>\n",
       "      <td>99.0</td>\n",
       "      <td>89.0</td>\n",
       "      <td>95.6</td>\n",
       "      <td>85.6</td>\n",
       "      <td>88.8</td>\n",
       "      <td>97.8</td>\n",
       "      <td>93.4</td>\n",
       "      <td>85.6</td>\n",
       "      <td>91.4</td>\n",
       "      <td>119.0</td>\n",
       "      <td>92.6</td>\n",
       "      <td>86.4</td>\n",
       "      <td>92.4</td>\n",
       "    </tr>\n",
       "    <tr>\n",
       "      <th>30</th>\n",
       "      <td>88.512397</td>\n",
       "      <td>119.0</td>\n",
       "      <td>110.8</td>\n",
       "      <td>115.8</td>\n",
       "      <td>104.8</td>\n",
       "      <td>110.2</td>\n",
       "      <td>123.2</td>\n",
       "      <td>118.4</td>\n",
       "      <td>104.6</td>\n",
       "      <td>114.8</td>\n",
       "      <td>155.2</td>\n",
       "      <td>113.2</td>\n",
       "      <td>103.2</td>\n",
       "      <td>107.4</td>\n",
       "    </tr>\n",
       "    <tr>\n",
       "      <th>35</th>\n",
       "      <td>103.510638</td>\n",
       "      <td>139.0</td>\n",
       "      <td>132.6</td>\n",
       "      <td>148.6</td>\n",
       "      <td>122.8</td>\n",
       "      <td>128.0</td>\n",
       "      <td>143.8</td>\n",
       "      <td>136.8</td>\n",
       "      <td>122.8</td>\n",
       "      <td>124.2</td>\n",
       "      <td>182.8</td>\n",
       "      <td>146.2</td>\n",
       "      <td>121.0</td>\n",
       "      <td>129.6</td>\n",
       "    </tr>\n",
       "    <tr>\n",
       "      <th>40</th>\n",
       "      <td>118.509317</td>\n",
       "      <td>159.0</td>\n",
       "      <td>152.6</td>\n",
       "      <td>174.6</td>\n",
       "      <td>140.4</td>\n",
       "      <td>149.8</td>\n",
       "      <td>167.8</td>\n",
       "      <td>171.2</td>\n",
       "      <td>143.4</td>\n",
       "      <td>149.2</td>\n",
       "      <td>215.6</td>\n",
       "      <td>154.2</td>\n",
       "      <td>142.4</td>\n",
       "      <td>143.6</td>\n",
       "    </tr>\n",
       "  </tbody>\n",
       "</table>\n",
       "</div>"
      ],
      "text/plain": [
       "     opt-bound    lpt  (2,10) ES  (2+10) ES  (2,100) ES  (2+100) ES  \\\n",
       "2     4.666667    7.0        6.0        6.0         6.0         6.0   \n",
       "5    13.571429   19.0       16.0       16.4        15.2        15.8   \n",
       "10   28.536585   39.0       33.2       34.6        33.2        33.6   \n",
       "15   43.524590   59.0       52.2       53.0        51.0        51.6   \n",
       "20   58.518519   79.0       70.0       72.4        69.2        70.8   \n",
       "25   73.514851   99.0       89.0       95.6        85.6        88.8   \n",
       "30   88.512397  119.0      110.8      115.8       104.8       110.2   \n",
       "35  103.510638  139.0      132.6      148.6       122.8       128.0   \n",
       "40  118.509317  159.0      152.6      174.6       140.4       149.8   \n",
       "\n",
       "    (5,10) ES  (5+10) ES  (5,100) ES  (5+100) ES  (10,10) ES  (10+10) ES  \\\n",
       "2         6.0        6.0         6.0         6.0         6.0         6.0   \n",
       "5        15.8       16.0        15.4        15.6        16.0        16.2   \n",
       "10       34.8       34.2        32.8        34.0        38.0        34.2   \n",
       "15       54.8       51.8        49.8        50.6        64.2        55.4   \n",
       "20       77.2       74.2        67.6        72.0        94.8        72.4   \n",
       "25       97.8       93.4        85.6        91.4       119.0        92.6   \n",
       "30      123.2      118.4       104.6       114.8       155.2       113.2   \n",
       "35      143.8      136.8       122.8       124.2       182.8       146.2   \n",
       "40      167.8      171.2       143.4       149.2       215.6       154.2   \n",
       "\n",
       "    (10,100) ES  (10+100) ES  \n",
       "2           6.0          6.0  \n",
       "5          15.6         15.8  \n",
       "10         32.2         34.6  \n",
       "15         49.6         50.4  \n",
       "20         67.2         70.2  \n",
       "25         86.4         92.4  \n",
       "30        103.2        107.4  \n",
       "35        121.0        129.6  \n",
       "40        142.4        143.6  "
      ]
     },
     "execution_count": 11,
     "metadata": {},
     "output_type": "execute_result"
    }
   ],
   "source": [
    "def es_name(par, pop, elitism):\n",
    "    op = '+' if elitism else ','\n",
    "    return f'({par}{op}{pop}) ES'\n",
    "\n",
    "es_df = pd.DataFrame(\n",
    "    {\n",
    "        es_name(num_parents, pop_size, elitism): evaluate_es(num_parents, pop_size, elitism)\n",
    "        for num_parents in [2, 5, 10]\n",
    "        for pop_size in [10, 100]\n",
    "        for elitism in [False, True]\n",
    "    },\n",
    "    index=resources,\n",
    ")\n",
    "es_df = pd.concat([lpt_df, es_df], axis=1)\n",
    "es_df"
   ]
  },
  {
   "cell_type": "markdown",
   "metadata": {},
   "source": [
    "## Evolutionary algorithms"
   ]
  },
  {
   "cell_type": "markdown",
   "metadata": {},
   "source": [
    "### Sanity check\n",
    "Note that the optimal value for this instance is 9."
   ]
  },
  {
   "cell_type": "code",
   "execution_count": 13,
   "metadata": {},
   "outputs": [
    {
     "data": {
      "text/plain": [
       "9.0"
      ]
     },
     "execution_count": 13,
     "metadata": {},
     "output_type": "execute_result"
    }
   ],
   "source": [
    "_, makespan = evolve(R=3, p=[5, 5, 4, 4, 3, 3, 3], mate=two_point_crossover, mutate=mutation(vec_tweak, R=3))\n",
    "makespan"
   ]
  },
  {
   "cell_type": "markdown",
   "metadata": {},
   "source": [
    "### EA evaluation\n",
    "Comparison of the solution quality between EA and LPT on problem instances for which LPT is known to be sub-optimal.\n",
    "\n",
    "Because EA is stochastic algorithm we take the mean value evaluated on `num_trials` per problem instance. Futhermore, each run uses `max_iters`.\n",
    "\n",
    "Finally, EA uses `vec_tweak` as the mutation operator, `two_point_crossover` as the mating operator and we run it for \n",
    "* varying population sizes: 10, 100\n",
    "* with/witout fitness penalty `#unused resources * M` where `M` is some big-enough constant (marked with P)"
   ]
  },
  {
   "cell_type": "code",
   "execution_count": 14,
   "metadata": {},
   "outputs": [],
   "source": [
    "def ea_makespan(R, p, pop_size, penalize):\n",
    "    _, m = evolve(\n",
    "        R=R,\n",
    "        p=p,\n",
    "        mate=two_point_crossover,\n",
    "        mutate=mutation(vec_tweak, R),\n",
    "        pop_size=pop_size,\n",
    "        max_iters=max_iters,\n",
    "        penalize=penalize,\n",
    "    )\n",
    "    return m\n",
    "\n",
    "def evaluate_evolve(pop_size, penalize):\n",
    "    for R, p in problem_instances:\n",
    "        # mean makespan\n",
    "        yield sum(ea_makespan(R, p, pop_size, penalize) for _ in range(num_trials)) / num_trials"
   ]
  },
  {
   "cell_type": "code",
   "execution_count": 15,
   "metadata": {},
   "outputs": [],
   "source": [
    "evolve_df = pd.DataFrame({f'evolve-{pop_size}': evaluate_evolve(pop_size, penalize=False) for pop_size in [10, 100]}, index=resources)\n",
    "evolve_df = pd.concat([lpt_df, evolve_df], axis=1)"
   ]
  },
  {
   "cell_type": "code",
   "execution_count": 16,
   "metadata": {},
   "outputs": [
    {
     "data": {
      "text/plain": [
       "<AxesSubplot:xlabel='#resources (R)', ylabel='min. makespan (mean for EA)'>"
      ]
     },
     "execution_count": 16,
     "metadata": {},
     "output_type": "execute_result"
    },
    {
     "data": {
      "image/png": "[encoded data removed]",
      "text/plain": [
       "<Figure size 432x288 with 1 Axes>"
      ]
     },
     "metadata": {
      "needs_background": "light"
     },
     "output_type": "display_data"
    }
   ],
   "source": [
    "evolve_df.plot.line(xlabel='#resources (R)', ylabel='min. makespan (mean for EA)')"
   ]
  },
  {
   "cell_type": "markdown",
   "metadata": {},
   "source": [
    "Similarly to SA, let's check if using a penalty for unused resources helps to find better schedules."
   ]
  },
  {
   "cell_type": "code",
   "execution_count": 17,
   "metadata": {},
   "outputs": [
    {
     "data": {
      "text/plain": [
       "<AxesSubplot:xlabel='#resources (R)', ylabel='min. makespan (mean for EA; pop=10)'>"
      ]
     },
     "execution_count": 17,
     "metadata": {},
     "output_type": "execute_result"
    },
    {
     "data": {
      "image/png": "[encoded data removed]",
      "text/plain": [
       "<Figure size 432x288 with 1 Axes>"
      ]
     },
     "metadata": {
      "needs_background": "light"
     },
     "output_type": "display_data"
    }
   ],
   "source": [
    "penalty_df = pd.DataFrame(\n",
    "    {\n",
    "        'witout penalty': evolve_df['evolve-10'],\n",
    "        'with penalty': evaluate_evolve(pop_size=10, penalize=True),\n",
    "    },\n",
    "    index=resources,\n",
    ")\n",
    "penalty_df = pd.concat([lpt_df, penalty_df], axis=1)\n",
    "penalty_df.plot.line(xlabel='#resources (R)', ylabel='min. makespan (mean for EA; pop=10)')"
   ]
  },
  {
   "cell_type": "code",
   "execution_count": null,
   "metadata": {},
   "outputs": [],
   "source": []
  }
 ],
 "metadata": {
  "kernelspec": {
   "display_name": "Python 3",
   "language": "python",
   "name": "python3"
  },
  "language_info": {
   "codemirror_mode": {
    "name": "ipython",
    "version": 3
   },
   "file_extension": ".py",
   "mimetype": "text/x-python",
   "name": "python",
   "nbconvert_exporter": "python",
   "pygments_lexer": "ipython3",
   "version": "3.8.5"
  }
 },
 "nbformat": 4,
 "nbformat_minor": 4
}
