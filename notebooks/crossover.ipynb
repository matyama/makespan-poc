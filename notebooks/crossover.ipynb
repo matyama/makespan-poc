{
 "cells": [
  {
   "cell_type": "markdown",
   "metadata": {},
   "source": [
    "# Crossover analysis for Evolutionary Algorithms"
   ]
  },
  {
   "cell_type": "code",
   "execution_count": 1,
   "metadata": {},
   "outputs": [],
   "source": [
    "import sys\n",
    "sys.path.append('../src/')\n",
    "\n",
    "%load_ext autoreload\n",
    "%autoreload 2\n",
    "%matplotlib inline\n",
    "\n",
    "import pandas as pd\n",
    "import matplotlib\n",
    "import matplotlib.pyplot as plt\n",
    "\n",
    "from alg import *\n",
    "from utils import *"
   ]
  },
  {
   "cell_type": "code",
   "execution_count": 2,
   "metadata": {},
   "outputs": [],
   "source": [
    "num_trials = 3\n",
    "pop_size = 50\n",
    "max_iters = 200\n",
    "resources = [*range(1, 10), *range(10, 25, 5)]\n",
    "\n",
    "def three_point_crossover(x, y):\n",
    "    return npoint_crossover(x, y, n=3)\n",
    "\n",
    "crossovers = [one_point_crossover, two_point_crossover, three_point_crossover, uniform_crossover]\n",
    "\n",
    "def eval_lpt(R, get_instance):\n",
    "    _, m, r, = lpt(R, p=get_instance(R))\n",
    "    return m / r, m\n",
    "\n",
    "def makespan(R, p, xover):\n",
    "    _, m = evolve(\n",
    "        R=R,\n",
    "        p=p,\n",
    "        mate=xover,\n",
    "        mutate=mutation(vec_tweak, R),\n",
    "        pop_size=pop_size,\n",
    "        max_iters=max_iters,\n",
    "        penalize=False,\n",
    "    )\n",
    "    return m\n",
    "\n",
    "def evaluate(xover, get_instance, verbose=True):\n",
    "    for R in resources:\n",
    "        yield sum(makespan(R, get_instance(R), xover) for _ in range(num_trials)) / num_trials\n",
    "        if verbose:\n",
    "            print(f'DONE xover={xover.__name__} R={R}')\n",
    "    if verbose:\n",
    "        print(f'DONE xover={xover.__name__}')"
   ]
  },
  {
   "cell_type": "markdown",
   "metadata": {},
   "source": [
    "## Comparison on SAMPLE_INSTANCE"
   ]
  },
  {
   "cell_type": "code",
   "execution_count": 3,
   "metadata": {},
   "outputs": [],
   "source": [
    "def sample_instance(_):\n",
    "    return SAMPLE_INSTANCE"
   ]
  },
  {
   "cell_type": "code",
   "execution_count": 4,
   "metadata": {},
   "outputs": [
    {
     "data": {
      "text/plain": [
       "<AxesSubplot:title={'center':'LPT on SAMPLE_INSTANCE'}, xlabel='#resources', ylabel='min. makespan'>"
      ]
     },
     "execution_count": 4,
     "metadata": {},
     "output_type": "execute_result"
    },
    {
     "data": {
      "image/png": "[encoded data removed]",
      "text/plain": [
       "<Figure size 432x288 with 1 Axes>"
      ]
     },
     "metadata": {
      "needs_background": "light"
     },
     "output_type": "display_data"
    }
   ],
   "source": [
    "lpt_df = pd.DataFrame(data=(eval_lpt(R, sample_instance) for R in resources), index=resources, columns=['opt-bound', 'lpt'])\n",
    "lpt_df.plot.line(xticks=resources, xlabel='#resources', ylabel='min. makespan', title='LPT on SAMPLE_INSTANCE')"
   ]
  },
  {
   "cell_type": "code",
   "execution_count": 5,
   "metadata": {},
   "outputs": [
    {
     "name": "stdout",
     "output_type": "stream",
     "text": [
      "DONE xover=one_point_crossover R=1\n",
      "DONE xover=one_point_crossover R=2\n",
      "DONE xover=one_point_crossover R=3\n",
      "DONE xover=one_point_crossover R=4\n",
      "DONE xover=one_point_crossover R=5\n",
      "DONE xover=one_point_crossover R=6\n",
      "DONE xover=one_point_crossover R=7\n",
      "DONE xover=one_point_crossover R=8\n",
      "DONE xover=one_point_crossover R=9\n",
      "DONE xover=one_point_crossover R=10\n",
      "DONE xover=one_point_crossover R=15\n",
      "DONE xover=one_point_crossover R=20\n",
      "DONE xover=one_point_crossover\n",
      "DONE xover=two_point_crossover R=1\n",
      "DONE xover=two_point_crossover R=2\n",
      "DONE xover=two_point_crossover R=3\n",
      "DONE xover=two_point_crossover R=4\n",
      "DONE xover=two_point_crossover R=5\n",
      "DONE xover=two_point_crossover R=6\n",
      "DONE xover=two_point_crossover R=7\n",
      "DONE xover=two_point_crossover R=8\n",
      "DONE xover=two_point_crossover R=9\n",
      "DONE xover=two_point_crossover R=10\n",
      "DONE xover=two_point_crossover R=15\n",
      "DONE xover=two_point_crossover R=20\n",
      "DONE xover=two_point_crossover\n",
      "DONE xover=three_point_crossover R=1\n",
      "DONE xover=three_point_crossover R=2\n",
      "DONE xover=three_point_crossover R=3\n",
      "DONE xover=three_point_crossover R=4\n",
      "DONE xover=three_point_crossover R=5\n",
      "DONE xover=three_point_crossover R=6\n",
      "DONE xover=three_point_crossover R=7\n",
      "DONE xover=three_point_crossover R=8\n",
      "DONE xover=three_point_crossover R=9\n",
      "DONE xover=three_point_crossover R=10\n",
      "DONE xover=three_point_crossover R=15\n",
      "DONE xover=three_point_crossover R=20\n",
      "DONE xover=three_point_crossover\n",
      "DONE xover=uniform_crossover R=1\n",
      "DONE xover=uniform_crossover R=2\n",
      "DONE xover=uniform_crossover R=3\n",
      "DONE xover=uniform_crossover R=4\n",
      "DONE xover=uniform_crossover R=5\n",
      "DONE xover=uniform_crossover R=6\n",
      "DONE xover=uniform_crossover R=7\n",
      "DONE xover=uniform_crossover R=8\n",
      "DONE xover=uniform_crossover R=9\n",
      "DONE xover=uniform_crossover R=10\n",
      "DONE xover=uniform_crossover R=15\n",
      "DONE xover=uniform_crossover R=20\n",
      "DONE xover=uniform_crossover\n"
     ]
    }
   ],
   "source": [
    "ea_df = pd.DataFrame({xover.__name__: evaluate(xover, sample_instance) for xover in crossovers}, index=resources)\n",
    "ea_df = pd.concat([lpt_df, ea_df], axis=1)"
   ]
  },
  {
   "cell_type": "code",
   "execution_count": 6,
   "metadata": {},
   "outputs": [
    {
     "data": {
      "text/html": [
       "<div>\n",
       "<style scoped>\n",
       "    .dataframe tbody tr th:only-of-type {\n",
       "        vertical-align: middle;\n",
       "    }\n",
       "\n",
       "    .dataframe tbody tr th {\n",
       "        vertical-align: top;\n",
       "    }\n",
       "\n",
       "    .dataframe thead th {\n",
       "        text-align: right;\n",
       "    }\n",
       "</style>\n",
       "<table border=\"1\" class=\"dataframe\">\n",
       "  <thead>\n",
       "    <tr style=\"text-align: right;\">\n",
       "      <th></th>\n",
       "      <th>opt-bound</th>\n",
       "      <th>lpt</th>\n",
       "      <th>one_point_crossover</th>\n",
       "      <th>two_point_crossover</th>\n",
       "      <th>three_point_crossover</th>\n",
       "      <th>uniform_crossover</th>\n",
       "    </tr>\n",
       "  </thead>\n",
       "  <tbody>\n",
       "    <tr>\n",
       "      <th>1</th>\n",
       "      <td>4810.737864</td>\n",
       "      <td>4906.0</td>\n",
       "      <td>4906.0</td>\n",
       "      <td>4906.0</td>\n",
       "      <td>4906.0</td>\n",
       "      <td>4906.0</td>\n",
       "    </tr>\n",
       "    <tr>\n",
       "      <th>2</th>\n",
       "      <td>2384.224299</td>\n",
       "      <td>2453.0</td>\n",
       "      <td>2453.0</td>\n",
       "      <td>2453.0</td>\n",
       "      <td>2453.0</td>\n",
       "      <td>2453.0</td>\n",
       "    </tr>\n",
       "    <tr>\n",
       "      <th>3</th>\n",
       "      <td>1575.963303</td>\n",
       "      <td>1636.0</td>\n",
       "      <td>1636.0</td>\n",
       "      <td>1636.0</td>\n",
       "      <td>1636.0</td>\n",
       "      <td>1636.0</td>\n",
       "    </tr>\n",
       "    <tr>\n",
       "      <th>4</th>\n",
       "      <td>1172.707965</td>\n",
       "      <td>1227.0</td>\n",
       "      <td>1227.0</td>\n",
       "      <td>1227.0</td>\n",
       "      <td>1227.0</td>\n",
       "      <td>1227.0</td>\n",
       "    </tr>\n",
       "    <tr>\n",
       "      <th>5</th>\n",
       "      <td>1006.679389</td>\n",
       "      <td>1055.0</td>\n",
       "      <td>1055.0</td>\n",
       "      <td>1055.0</td>\n",
       "      <td>1055.0</td>\n",
       "      <td>1055.0</td>\n",
       "    </tr>\n",
       "    <tr>\n",
       "      <th>6</th>\n",
       "      <td>996.850394</td>\n",
       "      <td>1055.0</td>\n",
       "      <td>1055.0</td>\n",
       "      <td>1055.0</td>\n",
       "      <td>1055.0</td>\n",
       "      <td>1055.0</td>\n",
       "    </tr>\n",
       "    <tr>\n",
       "      <th>7</th>\n",
       "      <td>992.014925</td>\n",
       "      <td>1055.0</td>\n",
       "      <td>1055.0</td>\n",
       "      <td>1055.0</td>\n",
       "      <td>1055.0</td>\n",
       "      <td>1055.0</td>\n",
       "    </tr>\n",
       "    <tr>\n",
       "      <th>8</th>\n",
       "      <td>981.395349</td>\n",
       "      <td>1055.0</td>\n",
       "      <td>1055.0</td>\n",
       "      <td>1055.0</td>\n",
       "      <td>1055.0</td>\n",
       "      <td>1055.0</td>\n",
       "    </tr>\n",
       "    <tr>\n",
       "      <th>9</th>\n",
       "      <td>977.426471</td>\n",
       "      <td>1055.0</td>\n",
       "      <td>1055.0</td>\n",
       "      <td>1055.0</td>\n",
       "      <td>1055.0</td>\n",
       "      <td>1055.0</td>\n",
       "    </tr>\n",
       "    <tr>\n",
       "      <th>10</th>\n",
       "      <td>972.695035</td>\n",
       "      <td>1055.0</td>\n",
       "      <td>1055.0</td>\n",
       "      <td>1055.0</td>\n",
       "      <td>1055.0</td>\n",
       "      <td>1055.0</td>\n",
       "    </tr>\n",
       "    <tr>\n",
       "      <th>15</th>\n",
       "      <td>953.313253</td>\n",
       "      <td>1055.0</td>\n",
       "      <td>1055.0</td>\n",
       "      <td>1055.0</td>\n",
       "      <td>1055.0</td>\n",
       "      <td>1055.0</td>\n",
       "    </tr>\n",
       "    <tr>\n",
       "      <th>20</th>\n",
       "      <td>944.776119</td>\n",
       "      <td>1055.0</td>\n",
       "      <td>1055.0</td>\n",
       "      <td>1055.0</td>\n",
       "      <td>1055.0</td>\n",
       "      <td>1055.0</td>\n",
       "    </tr>\n",
       "  </tbody>\n",
       "</table>\n",
       "</div>"
      ],
      "text/plain": [
       "      opt-bound     lpt  one_point_crossover  two_point_crossover  \\\n",
       "1   4810.737864  4906.0               4906.0               4906.0   \n",
       "2   2384.224299  2453.0               2453.0               2453.0   \n",
       "3   1575.963303  1636.0               1636.0               1636.0   \n",
       "4   1172.707965  1227.0               1227.0               1227.0   \n",
       "5   1006.679389  1055.0               1055.0               1055.0   \n",
       "6    996.850394  1055.0               1055.0               1055.0   \n",
       "7    992.014925  1055.0               1055.0               1055.0   \n",
       "8    981.395349  1055.0               1055.0               1055.0   \n",
       "9    977.426471  1055.0               1055.0               1055.0   \n",
       "10   972.695035  1055.0               1055.0               1055.0   \n",
       "15   953.313253  1055.0               1055.0               1055.0   \n",
       "20   944.776119  1055.0               1055.0               1055.0   \n",
       "\n",
       "    three_point_crossover  uniform_crossover  \n",
       "1                  4906.0             4906.0  \n",
       "2                  2453.0             2453.0  \n",
       "3                  1636.0             1636.0  \n",
       "4                  1227.0             1227.0  \n",
       "5                  1055.0             1055.0  \n",
       "6                  1055.0             1055.0  \n",
       "7                  1055.0             1055.0  \n",
       "8                  1055.0             1055.0  \n",
       "9                  1055.0             1055.0  \n",
       "10                 1055.0             1055.0  \n",
       "15                 1055.0             1055.0  \n",
       "20                 1055.0             1055.0  "
      ]
     },
     "execution_count": 6,
     "metadata": {},
     "output_type": "execute_result"
    }
   ],
   "source": [
    "ea_df"
   ]
  },
  {
   "cell_type": "code",
   "execution_count": 7,
   "metadata": {},
   "outputs": [
    {
     "data": {
      "text/plain": [
       "opt-bound                4810.737864\n",
       "lpt                      4906.000000\n",
       "one_point_crossover      4906.000000\n",
       "two_point_crossover      4906.000000\n",
       "three_point_crossover    4906.000000\n",
       "uniform_crossover        4906.000000\n",
       "dtype: float64"
      ]
     },
     "execution_count": 7,
     "metadata": {},
     "output_type": "execute_result"
    }
   ],
   "source": [
    "ea_df.max()"
   ]
  },
  {
   "cell_type": "code",
   "execution_count": 8,
   "metadata": {},
   "outputs": [
    {
     "data": {
      "text/plain": [
       "<AxesSubplot:title={'center':'Crossover comparison on SAMPLE_INSTANCE (pop=50, iters=200)'}, xlabel='#resources (R)', ylabel='min. makespan (mean for EA)'>"
      ]
     },
     "execution_count": 8,
     "metadata": {},
     "output_type": "execute_result"
    },
    {
     "data": {
      "image/png": "[encoded data removed]",
      "text/plain": [
       "<Figure size 432x288 with 1 Axes>"
      ]
     },
     "metadata": {
      "needs_background": "light"
     },
     "output_type": "display_data"
    }
   ],
   "source": [
    "ea_df.plot.line(xticks=resources, xlabel='#resources (R)', ylabel='min. makespan (mean for EA)', title=f'Crossover comparison on SAMPLE_INSTANCE (pop={pop_size}, iters={max_iters})')"
   ]
  },
  {
   "cell_type": "markdown",
   "metadata": {},
   "source": [
    "## Comparison on sub-optimal instance"
   ]
  },
  {
   "cell_type": "code",
   "execution_count": 9,
   "metadata": {},
   "outputs": [
    {
     "data": {
      "text/plain": [
       "<AxesSubplot:title={'center':'LPT on sub-optimal instance'}, xlabel='#resources', ylabel='min. makespan'>"
      ]
     },
     "execution_count": 9,
     "metadata": {},
     "output_type": "execute_result"
    },
    {
     "data": {
      "image/png": "[encoded data removed]",
      "text/plain": [
       "<Figure size 432x288 with 1 Axes>"
      ]
     },
     "metadata": {
      "needs_background": "light"
     },
     "output_type": "display_data"
    }
   ],
   "source": [
    "lpt_df = pd.DataFrame(data=(eval_lpt(R, suboptimal_instance) for R in resources), index=resources, columns=['opt-bound', 'lpt'])\n",
    "lpt_df.plot.line(xticks=resources, xlabel='#resources', ylabel='min. makespan', title='LPT on sub-optimal instance')"
   ]
  },
  {
   "cell_type": "code",
   "execution_count": null,
   "metadata": {},
   "outputs": [],
   "source": []
  }
 ],
 "metadata": {
  "kernelspec": {
   "display_name": "Python 3",
   "language": "python",
   "name": "python3"
  },
  "language_info": {
   "codemirror_mode": {
    "name": "ipython",
    "version": 3
   },
   "file_extension": ".py",
   "mimetype": "text/x-python",
   "name": "python",
   "nbconvert_exporter": "python",
   "pygments_lexer": "ipython3",
   "version": "3.8.5"
  }
 },
 "nbformat": 4,
 "nbformat_minor": 4
}
