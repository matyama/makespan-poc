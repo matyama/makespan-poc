{
 "cells": [
  {
   "cell_type": "markdown",
   "metadata": {},
   "source": [
    "## GRASP"
   ]
  },
  {
   "cell_type": "code",
   "execution_count": 1,
   "metadata": {},
   "outputs": [],
   "source": [
    "import sys\n",
    "sys.path.append('../src/')\n",
    "\n",
    "%load_ext autoreload\n",
    "%autoreload 2\n",
    "%matplotlib inline\n",
    "\n",
    "import pandas as pd\n",
    "import matplotlib\n",
    "import matplotlib.pyplot as plt\n",
    "\n",
    "from alg import *\n",
    "from utils import *"
   ]
  },
  {
   "cell_type": "code",
   "execution_count": 2,
   "metadata": {},
   "outputs": [],
   "source": [
    "num_trials = 5\n",
    "resources = [5, 10, 15, 20]\n",
    "cc_ratios = [0.25, 0.5, 0.75]\n",
    "\n",
    "def opt_bound(R, p):\n",
    "    _, m, r, = lpt(R, p)\n",
    "    return m / r\n",
    "\n",
    "def lpt_value(R, p):\n",
    "    _, m, _, = lpt(R, p)\n",
    "    return m\n",
    "\n",
    "def makespan(R, p, cc_ratio):\n",
    "    _, m = grasp(R=R, p=p, cc_ratio=cc_ratio)\n",
    "    return m"
   ]
  },
  {
   "cell_type": "markdown",
   "metadata": {},
   "source": [
    "## Comparison on sub-optimal instance"
   ]
  },
  {
   "cell_type": "code",
   "execution_count": 3,
   "metadata": {},
   "outputs": [],
   "source": [
    "def eval_subopt_lpt(R):\n",
    "    _, m, r, = lpt(R, p=suboptimal_instance(R))\n",
    "    return m / r, m\n",
    "\n",
    "def eval_subopt_grasp(cc_ratio):\n",
    "    for R in resources:\n",
    "        yield sum(makespan(R, suboptimal_instance(R), cc_ratio) for _ in range(num_trials)) / num_trials"
   ]
  },
  {
   "cell_type": "code",
   "execution_count": 4,
   "metadata": {},
   "outputs": [
    {
     "data": {
      "text/html": [
       "<div>\n",
       "<style scoped>\n",
       "    .dataframe tbody tr th:only-of-type {\n",
       "        vertical-align: middle;\n",
       "    }\n",
       "\n",
       "    .dataframe tbody tr th {\n",
       "        vertical-align: top;\n",
       "    }\n",
       "\n",
       "    .dataframe thead th {\n",
       "        text-align: right;\n",
       "    }\n",
       "</style>\n",
       "<table border=\"1\" class=\"dataframe\">\n",
       "  <thead>\n",
       "    <tr style=\"text-align: right;\">\n",
       "      <th></th>\n",
       "      <th>opt_bound</th>\n",
       "      <th>lpt</th>\n",
       "      <th>grasp (0.25)</th>\n",
       "      <th>grasp (0.5)</th>\n",
       "      <th>grasp (0.75)</th>\n",
       "    </tr>\n",
       "  </thead>\n",
       "  <tbody>\n",
       "    <tr>\n",
       "      <th>5</th>\n",
       "      <td>13.571429</td>\n",
       "      <td>19.0</td>\n",
       "      <td>16.0</td>\n",
       "      <td>15.6</td>\n",
       "      <td>16.0</td>\n",
       "    </tr>\n",
       "    <tr>\n",
       "      <th>10</th>\n",
       "      <td>28.536585</td>\n",
       "      <td>39.0</td>\n",
       "      <td>37.8</td>\n",
       "      <td>37.4</td>\n",
       "      <td>37.6</td>\n",
       "    </tr>\n",
       "    <tr>\n",
       "      <th>15</th>\n",
       "      <td>43.524590</td>\n",
       "      <td>59.0</td>\n",
       "      <td>63.2</td>\n",
       "      <td>64.6</td>\n",
       "      <td>63.6</td>\n",
       "    </tr>\n",
       "    <tr>\n",
       "      <th>20</th>\n",
       "      <td>58.518519</td>\n",
       "      <td>79.0</td>\n",
       "      <td>90.6</td>\n",
       "      <td>90.0</td>\n",
       "      <td>90.4</td>\n",
       "    </tr>\n",
       "  </tbody>\n",
       "</table>\n",
       "</div>"
      ],
      "text/plain": [
       "    opt_bound   lpt  grasp (0.25)  grasp (0.5)  grasp (0.75)\n",
       "5   13.571429  19.0          16.0         15.6          16.0\n",
       "10  28.536585  39.0          37.8         37.4          37.6\n",
       "15  43.524590  59.0          63.2         64.6          63.6\n",
       "20  58.518519  79.0          90.6         90.0          90.4"
      ]
     },
     "execution_count": 4,
     "metadata": {},
     "output_type": "execute_result"
    }
   ],
   "source": [
    "lpt_df = pd.DataFrame(data=(eval_subopt_lpt(R) for R in resources), index=resources, columns=['opt_bound', 'lpt'])\n",
    "grasp_df = pd.DataFrame({f'grasp ({cc_ratio})': eval_subopt_grasp(cc_ratio) for cc_ratio in cc_ratios}, index=resources)\n",
    "\n",
    "pd.concat([lpt_df, grasp_df], axis=1)"
   ]
  },
  {
   "cell_type": "code",
   "execution_count": 5,
   "metadata": {},
   "outputs": [
    {
     "data": {
      "text/plain": [
       "<AxesSubplot:title={'center':'Quality relative to LPT for sub-optimal instances'}, ylabel='#resources (R)'>"
      ]
     },
     "execution_count": 5,
     "metadata": {},
     "output_type": "execute_result"
    },
    {
     "data": {
      "image/png": "[encoded data removed]",
      "text/plain": [
       "<Figure size 432x288 with 1 Axes>"
      ]
     },
     "metadata": {
      "needs_background": "light"
     },
     "output_type": "display_data"
    }
   ],
   "source": [
    "df = grasp_df.sub(lpt_df.opt_bound, axis=0).div(lpt_df.lpt - lpt_df.opt_bound, axis=0)\n",
    "df.plot.barh(ylabel='norm. quality(GRASP)/quality(LPT)', xlabel='#resources (R)', title='Quality relative to LPT for sub-optimal instances')"
   ]
  },
  {
   "cell_type": "code",
   "execution_count": null,
   "metadata": {},
   "outputs": [],
   "source": []
  }
 ],
 "metadata": {
  "kernelspec": {
   "display_name": "Python 3",
   "language": "python",
   "name": "python3"
  },
  "language_info": {
   "codemirror_mode": {
    "name": "ipython",
    "version": 3
   },
   "file_extension": ".py",
   "mimetype": "text/x-python",
   "name": "python",
   "nbconvert_exporter": "python",
   "pygments_lexer": "ipython3",
   "version": "3.8.5"
  }
 },
 "nbformat": 4,
 "nbformat_minor": 4
}
