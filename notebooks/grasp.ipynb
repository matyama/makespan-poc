{
 "cells": [
  {
   "cell_type": "markdown",
   "metadata": {},
   "source": [
    "## GRASP"
   ]
  },
  {
   "cell_type": "code",
   "execution_count": 1,
   "metadata": {},
   "outputs": [],
   "source": [
    "import sys\n",
    "sys.path.append('../src/')\n",
    "\n",
    "%load_ext autoreload\n",
    "%autoreload 2\n",
    "%matplotlib inline\n",
    "\n",
    "import pandas as pd\n",
    "import matplotlib\n",
    "import matplotlib.pyplot as plt\n",
    "\n",
    "from alg import *\n",
    "from utils import *"
   ]
  },
  {
   "cell_type": "code",
   "execution_count": 2,
   "metadata": {},
   "outputs": [],
   "source": [
    "num_trials = 5\n",
    "resources = [5, 10, 15, 20]\n",
    "\n",
    "def opt_bound(R, p):\n",
    "    _, m, r, = lpt(R, p)\n",
    "    return m / r\n",
    "\n",
    "def lpt_value(R, p):\n",
    "    _, m, _, = lpt(R, p)\n",
    "    return m\n",
    "\n",
    "def makespan(R, p, cc_ratio=0.5, max_iters=1000, hc_iters=10):\n",
    "    _, m = grasp(R=R, p=p, cc_ratio=cc_ratio, max_iters=max_iters, hc_iters=hc_iters)\n",
    "    return m"
   ]
  },
  {
   "cell_type": "markdown",
   "metadata": {},
   "source": [
    "## Comparison on sub-optimal instance"
   ]
  },
  {
   "cell_type": "markdown",
   "metadata": {},
   "source": [
    "### Varying candidate component ratio"
   ]
  },
  {
   "cell_type": "code",
   "execution_count": 3,
   "metadata": {},
   "outputs": [],
   "source": [
    "def eval_subopt_lpt(R):\n",
    "    _, m, r, = lpt(R, p=suboptimal_instance(R))\n",
    "    return m / r, m\n",
    "\n",
    "lpt_df = pd.DataFrame(data=(eval_subopt_lpt(R) for R in resources), index=resources, columns=['opt_bound', 'lpt'])"
   ]
  },
  {
   "cell_type": "code",
   "execution_count": 4,
   "metadata": {},
   "outputs": [],
   "source": [
    "def eval_subopt_grasp(**kwargs):\n",
    "    for R in resources:\n",
    "        yield sum(makespan(R, suboptimal_instance(R), **kwargs) for _ in range(num_trials)) / num_trials"
   ]
  },
  {
   "cell_type": "code",
   "execution_count": 5,
   "metadata": {},
   "outputs": [
    {
     "data": {
      "text/html": [
       "<div>\n",
       "<style scoped>\n",
       "    .dataframe tbody tr th:only-of-type {\n",
       "        vertical-align: middle;\n",
       "    }\n",
       "\n",
       "    .dataframe tbody tr th {\n",
       "        vertical-align: top;\n",
       "    }\n",
       "\n",
       "    .dataframe thead th {\n",
       "        text-align: right;\n",
       "    }\n",
       "</style>\n",
       "<table border=\"1\" class=\"dataframe\">\n",
       "  <thead>\n",
       "    <tr style=\"text-align: right;\">\n",
       "      <th></th>\n",
       "      <th>opt_bound</th>\n",
       "      <th>lpt</th>\n",
       "      <th>grasp (0.25)</th>\n",
       "      <th>grasp (0.5)</th>\n",
       "      <th>grasp (0.75)</th>\n",
       "    </tr>\n",
       "  </thead>\n",
       "  <tbody>\n",
       "    <tr>\n",
       "      <th>5</th>\n",
       "      <td>13.571429</td>\n",
       "      <td>19.0</td>\n",
       "      <td>16.4</td>\n",
       "      <td>15.8</td>\n",
       "      <td>16.0</td>\n",
       "    </tr>\n",
       "    <tr>\n",
       "      <th>10</th>\n",
       "      <td>28.536585</td>\n",
       "      <td>39.0</td>\n",
       "      <td>38.2</td>\n",
       "      <td>36.6</td>\n",
       "      <td>37.0</td>\n",
       "    </tr>\n",
       "    <tr>\n",
       "      <th>15</th>\n",
       "      <td>43.524590</td>\n",
       "      <td>59.0</td>\n",
       "      <td>65.6</td>\n",
       "      <td>63.0</td>\n",
       "      <td>63.6</td>\n",
       "    </tr>\n",
       "    <tr>\n",
       "      <th>20</th>\n",
       "      <td>58.518519</td>\n",
       "      <td>79.0</td>\n",
       "      <td>91.0</td>\n",
       "      <td>90.2</td>\n",
       "      <td>87.8</td>\n",
       "    </tr>\n",
       "  </tbody>\n",
       "</table>\n",
       "</div>"
      ],
      "text/plain": [
       "    opt_bound   lpt  grasp (0.25)  grasp (0.5)  grasp (0.75)\n",
       "5   13.571429  19.0          16.4         15.8          16.0\n",
       "10  28.536585  39.0          38.2         36.6          37.0\n",
       "15  43.524590  59.0          65.6         63.0          63.6\n",
       "20  58.518519  79.0          91.0         90.2          87.8"
      ]
     },
     "execution_count": 5,
     "metadata": {},
     "output_type": "execute_result"
    }
   ],
   "source": [
    "cc_ratios = [0.25, 0.5, 0.75]\n",
    "\n",
    "grasp_df = pd.DataFrame({f'grasp ({cc_ratio})': eval_subopt_grasp(cc_ratio=cc_ratio) for cc_ratio in cc_ratios}, index=resources)\n",
    "\n",
    "pd.concat([lpt_df, grasp_df], axis=1)"
   ]
  },
  {
   "cell_type": "code",
   "execution_count": 6,
   "metadata": {},
   "outputs": [
    {
     "data": {
      "text/plain": [
       "<AxesSubplot:title={'center':'Quality relative to LPT for sub-optimal instances'}, ylabel='#resources (R)'>"
      ]
     },
     "execution_count": 6,
     "metadata": {},
     "output_type": "execute_result"
    },
    {
     "data": {
      "image/png": "[encoded data removed]",
      "text/plain": [
       "<Figure size 432x288 with 1 Axes>"
      ]
     },
     "metadata": {
      "needs_background": "light"
     },
     "output_type": "display_data"
    }
   ],
   "source": [
    "df = grasp_df.sub(lpt_df.opt_bound, axis=0).div(lpt_df.lpt - lpt_df.opt_bound, axis=0)\n",
    "df.plot.barh(ylabel='norm. quality(GRASP)/quality(LPT)', xlabel='#resources (R)', title='Quality relative to LPT for sub-optimal instances')"
   ]
  },
  {
   "cell_type": "markdown",
   "metadata": {},
   "source": [
    "### Exploitation effect of Hill Climbing"
   ]
  },
  {
   "cell_type": "code",
   "execution_count": 7,
   "metadata": {},
   "outputs": [
    {
     "data": {
      "text/html": [
       "<div>\n",
       "<style scoped>\n",
       "    .dataframe tbody tr th:only-of-type {\n",
       "        vertical-align: middle;\n",
       "    }\n",
       "\n",
       "    .dataframe tbody tr th {\n",
       "        vertical-align: top;\n",
       "    }\n",
       "\n",
       "    .dataframe thead th {\n",
       "        text-align: right;\n",
       "    }\n",
       "</style>\n",
       "<table border=\"1\" class=\"dataframe\">\n",
       "  <thead>\n",
       "    <tr style=\"text-align: right;\">\n",
       "      <th></th>\n",
       "      <th>opt_bound</th>\n",
       "      <th>lpt</th>\n",
       "      <th>grasp (HC-0)</th>\n",
       "      <th>grasp (HC-10)</th>\n",
       "      <th>grasp (HC-100)</th>\n",
       "    </tr>\n",
       "  </thead>\n",
       "  <tbody>\n",
       "    <tr>\n",
       "      <th>5</th>\n",
       "      <td>13.571429</td>\n",
       "      <td>19.0</td>\n",
       "      <td>17.2</td>\n",
       "      <td>16.0</td>\n",
       "      <td>15.2</td>\n",
       "    </tr>\n",
       "    <tr>\n",
       "      <th>10</th>\n",
       "      <td>28.536585</td>\n",
       "      <td>39.0</td>\n",
       "      <td>38.8</td>\n",
       "      <td>37.0</td>\n",
       "      <td>33.2</td>\n",
       "    </tr>\n",
       "    <tr>\n",
       "      <th>15</th>\n",
       "      <td>43.524590</td>\n",
       "      <td>59.0</td>\n",
       "      <td>66.0</td>\n",
       "      <td>61.8</td>\n",
       "      <td>54.6</td>\n",
       "    </tr>\n",
       "    <tr>\n",
       "      <th>20</th>\n",
       "      <td>58.518519</td>\n",
       "      <td>79.0</td>\n",
       "      <td>94.2</td>\n",
       "      <td>90.8</td>\n",
       "      <td>79.6</td>\n",
       "    </tr>\n",
       "  </tbody>\n",
       "</table>\n",
       "</div>"
      ],
      "text/plain": [
       "    opt_bound   lpt  grasp (HC-0)  grasp (HC-10)  grasp (HC-100)\n",
       "5   13.571429  19.0          17.2           16.0            15.2\n",
       "10  28.536585  39.0          38.8           37.0            33.2\n",
       "15  43.524590  59.0          66.0           61.8            54.6\n",
       "20  58.518519  79.0          94.2           90.8            79.6"
      ]
     },
     "execution_count": 7,
     "metadata": {},
     "output_type": "execute_result"
    }
   ],
   "source": [
    "hc_iters_choices = [0, 10, 100]\n",
    "\n",
    "grasp_df = pd.DataFrame({f'grasp (HC-{hc_iters})': eval_subopt_grasp(hc_iters=hc_iters) for hc_iters in hc_iters_choices}, index=resources)\n",
    "\n",
    "pd.concat([lpt_df, grasp_df], axis=1)"
   ]
  },
  {
   "cell_type": "code",
   "execution_count": 8,
   "metadata": {},
   "outputs": [
    {
     "data": {
      "text/plain": [
       "<AxesSubplot:title={'center':'Quality relative to LPT for sub-optimal instances'}, ylabel='#resources (R)'>"
      ]
     },
     "execution_count": 8,
     "metadata": {},
     "output_type": "execute_result"
    },
    {
     "data": {
      "image/png": "[encoded data removed]",
      "text/plain": [
       "<Figure size 432x288 with 1 Axes>"
      ]
     },
     "metadata": {
      "needs_background": "light"
     },
     "output_type": "display_data"
    }
   ],
   "source": [
    "df = grasp_df.sub(lpt_df.opt_bound, axis=0).div(lpt_df.lpt - lpt_df.opt_bound, axis=0)\n",
    "df.plot.barh(ylabel='norm. quality(GRASP)/quality(LPT)', xlabel='#resources (R)', title='Quality relative to LPT for sub-optimal instances')"
   ]
  },
  {
   "cell_type": "markdown",
   "metadata": {},
   "source": [
    "### Effect of increasing max. number of iterations"
   ]
  },
  {
   "cell_type": "code",
   "execution_count": 9,
   "metadata": {},
   "outputs": [
    {
     "data": {
      "text/html": [
       "<div>\n",
       "<style scoped>\n",
       "    .dataframe tbody tr th:only-of-type {\n",
       "        vertical-align: middle;\n",
       "    }\n",
       "\n",
       "    .dataframe tbody tr th {\n",
       "        vertical-align: top;\n",
       "    }\n",
       "\n",
       "    .dataframe thead th {\n",
       "        text-align: right;\n",
       "    }\n",
       "</style>\n",
       "<table border=\"1\" class=\"dataframe\">\n",
       "  <thead>\n",
       "    <tr style=\"text-align: right;\">\n",
       "      <th></th>\n",
       "      <th>opt_bound</th>\n",
       "      <th>lpt</th>\n",
       "      <th>grasp (1000, HC-100)</th>\n",
       "      <th>grasp (2000, HC-100)</th>\n",
       "      <th>grasp (5000, HC-100)</th>\n",
       "    </tr>\n",
       "  </thead>\n",
       "  <tbody>\n",
       "    <tr>\n",
       "      <th>5</th>\n",
       "      <td>13.571429</td>\n",
       "      <td>19.0</td>\n",
       "      <td>15.2</td>\n",
       "      <td>15.0</td>\n",
       "      <td>15.0</td>\n",
       "    </tr>\n",
       "    <tr>\n",
       "      <th>10</th>\n",
       "      <td>28.536585</td>\n",
       "      <td>39.0</td>\n",
       "      <td>33.8</td>\n",
       "      <td>33.2</td>\n",
       "      <td>32.8</td>\n",
       "    </tr>\n",
       "    <tr>\n",
       "      <th>15</th>\n",
       "      <td>43.524590</td>\n",
       "      <td>59.0</td>\n",
       "      <td>54.8</td>\n",
       "      <td>54.6</td>\n",
       "      <td>53.6</td>\n",
       "    </tr>\n",
       "    <tr>\n",
       "      <th>20</th>\n",
       "      <td>58.518519</td>\n",
       "      <td>79.0</td>\n",
       "      <td>80.8</td>\n",
       "      <td>79.2</td>\n",
       "      <td>77.4</td>\n",
       "    </tr>\n",
       "  </tbody>\n",
       "</table>\n",
       "</div>"
      ],
      "text/plain": [
       "    opt_bound   lpt  grasp (1000, HC-100)  grasp (2000, HC-100)  \\\n",
       "5   13.571429  19.0                  15.2                  15.0   \n",
       "10  28.536585  39.0                  33.8                  33.2   \n",
       "15  43.524590  59.0                  54.8                  54.6   \n",
       "20  58.518519  79.0                  80.8                  79.2   \n",
       "\n",
       "    grasp (5000, HC-100)  \n",
       "5                   15.0  \n",
       "10                  32.8  \n",
       "15                  53.6  \n",
       "20                  77.4  "
      ]
     },
     "execution_count": 9,
     "metadata": {},
     "output_type": "execute_result"
    }
   ],
   "source": [
    "max_iters_choices = [1_000, 2_000, 5_000]\n",
    "hc_iters=100\n",
    "\n",
    "grasp_df = pd.DataFrame(\n",
    "    {\n",
    "        f'grasp ({max_iters}, HC-{hc_iters})': eval_subopt_grasp(max_iters=max_iters, hc_iters=hc_iters) for max_iters in max_iters_choices\n",
    "    },\n",
    "    index=resources,\n",
    ")\n",
    "\n",
    "df = pd.concat([lpt_df, grasp_df], axis=1)\n",
    "df"
   ]
  },
  {
   "cell_type": "code",
   "execution_count": 10,
   "metadata": {},
   "outputs": [
    {
     "data": {
      "text/plain": [
       "<AxesSubplot:xlabel='#resources (R)', ylabel='min. makespan (mean for GRASP)'>"
      ]
     },
     "execution_count": 10,
     "metadata": {},
     "output_type": "execute_result"
    },
    {
     "data": {
      "image/png": "[encoded data removed]",
      "text/plain": [
       "<Figure size 432x288 with 1 Axes>"
      ]
     },
     "metadata": {
      "needs_background": "light"
     },
     "output_type": "display_data"
    }
   ],
   "source": [
    "df.plot.line(xlabel='#resources (R)', ylabel='min. makespan (mean for GRASP)')"
   ]
  },
  {
   "cell_type": "code",
   "execution_count": null,
   "metadata": {},
   "outputs": [],
   "source": []
  }
 ],
 "metadata": {
  "kernelspec": {
   "display_name": "Python 3",
   "language": "python",
   "name": "python3"
  },
  "language_info": {
   "codemirror_mode": {
    "name": "ipython",
    "version": 3
   },
   "file_extension": ".py",
   "mimetype": "text/x-python",
   "name": "python",
   "nbconvert_exporter": "python",
   "pygments_lexer": "ipython3",
   "version": "3.8.5"
  }
 },
 "nbformat": 4,
 "nbformat_minor": 4
}
