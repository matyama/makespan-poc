{
 "cells": [
  {
   "cell_type": "markdown",
   "metadata": {},
   "source": [
    "# Metaheuristic Algorithms\n",
    "Following sections try some techniques from stochasitic optimization, also known as *metaheuristics*."
   ]
  },
  {
   "cell_type": "code",
   "execution_count": 1,
   "metadata": {},
   "outputs": [],
   "source": [
    "import sys\n",
    "sys.path.append('../src/')\n",
    "\n",
    "%load_ext autoreload\n",
    "%autoreload 2\n",
    "%matplotlib inline\n",
    "\n",
    "import pandas as pd\n",
    "import matplotlib\n",
    "import matplotlib.pyplot as plt\n",
    "\n",
    "from alg import *\n",
    "from utils import *"
   ]
  },
  {
   "cell_type": "code",
   "execution_count": 2,
   "metadata": {},
   "outputs": [
    {
     "data": {
      "text/plain": [
       "<AxesSubplot:xlabel='#resources', ylabel='min. makespan'>"
      ]
     },
     "execution_count": 2,
     "metadata": {},
     "output_type": "execute_result"
    },
    {
     "data": {
      "image/png": "[encoded data removed]",
      "text/plain": [
       "<Figure size 432x288 with 1 Axes>"
      ]
     },
     "metadata": {
      "needs_background": "light"
     },
     "output_type": "display_data"
    }
   ],
   "source": [
    "num_instances = 30\n",
    "num_trials = 5\n",
    "max_iters = 1000\n",
    "\n",
    "problem_instances = list(generate_subopt_instances(num_instances))\n",
    "\n",
    "def eval_lpt(R, p):\n",
    "    _, m, r, = lpt(R, p)\n",
    "    return m / r, m\n",
    "\n",
    "lpt_df = pd.DataFrame((eval_lpt(R, p) for R, p in problem_instances), columns=['opt-bound', 'lpt'])\n",
    "lpt_df.plot.line(xlabel='#resources', ylabel='min. makespan')"
   ]
  },
  {
   "cell_type": "markdown",
   "metadata": {},
   "source": [
    "## Simulated Annealing"
   ]
  },
  {
   "cell_type": "markdown",
   "metadata": {},
   "source": [
    "### Sanity check\n",
    "Note that the optimal value for this instance is 9."
   ]
  },
  {
   "cell_type": "code",
   "execution_count": 3,
   "metadata": {},
   "outputs": [
    {
     "data": {
      "text/plain": [
       "9.0"
      ]
     },
     "execution_count": 3,
     "metadata": {},
     "output_type": "execute_result"
    }
   ],
   "source": [
    "R = 3\n",
    "p = [5, 5, 4, 4, 3, 3, 3]\n",
    "\n",
    "schedule, makespan = anneal(R, p)\n",
    "makespan"
   ]
  },
  {
   "cell_type": "code",
   "execution_count": 4,
   "metadata": {},
   "outputs": [
    {
     "data": {
      "text/html": [
       "<div>\n",
       "<style scoped>\n",
       "    .dataframe tbody tr th:only-of-type {\n",
       "        vertical-align: middle;\n",
       "    }\n",
       "\n",
       "    .dataframe tbody tr th {\n",
       "        vertical-align: top;\n",
       "    }\n",
       "\n",
       "    .dataframe thead th {\n",
       "        text-align: right;\n",
       "    }\n",
       "</style>\n",
       "<table border=\"1\" class=\"dataframe\">\n",
       "  <thead>\n",
       "    <tr style=\"text-align: right;\">\n",
       "      <th></th>\n",
       "      <th>task</th>\n",
       "      <th>start</th>\n",
       "      <th>finish</th>\n",
       "      <th>resource</th>\n",
       "    </tr>\n",
       "  </thead>\n",
       "  <tbody>\n",
       "    <tr>\n",
       "      <th>0</th>\n",
       "      <td>1</td>\n",
       "      <td>0.0</td>\n",
       "      <td>5.0</td>\n",
       "      <td>0</td>\n",
       "    </tr>\n",
       "    <tr>\n",
       "      <th>1</th>\n",
       "      <td>2</td>\n",
       "      <td>5.0</td>\n",
       "      <td>9.0</td>\n",
       "      <td>0</td>\n",
       "    </tr>\n",
       "    <tr>\n",
       "      <th>2</th>\n",
       "      <td>0</td>\n",
       "      <td>0.0</td>\n",
       "      <td>5.0</td>\n",
       "      <td>1</td>\n",
       "    </tr>\n",
       "    <tr>\n",
       "      <th>3</th>\n",
       "      <td>3</td>\n",
       "      <td>5.0</td>\n",
       "      <td>9.0</td>\n",
       "      <td>1</td>\n",
       "    </tr>\n",
       "    <tr>\n",
       "      <th>4</th>\n",
       "      <td>4</td>\n",
       "      <td>0.0</td>\n",
       "      <td>3.0</td>\n",
       "      <td>2</td>\n",
       "    </tr>\n",
       "    <tr>\n",
       "      <th>5</th>\n",
       "      <td>5</td>\n",
       "      <td>3.0</td>\n",
       "      <td>6.0</td>\n",
       "      <td>2</td>\n",
       "    </tr>\n",
       "    <tr>\n",
       "      <th>6</th>\n",
       "      <td>6</td>\n",
       "      <td>6.0</td>\n",
       "      <td>9.0</td>\n",
       "      <td>2</td>\n",
       "    </tr>\n",
       "  </tbody>\n",
       "</table>\n",
       "</div>"
      ],
      "text/plain": [
       "   task  start  finish  resource\n",
       "0     1    0.0     5.0         0\n",
       "1     2    5.0     9.0         0\n",
       "2     0    0.0     5.0         1\n",
       "3     3    5.0     9.0         1\n",
       "4     4    0.0     3.0         2\n",
       "5     5    3.0     6.0         2\n",
       "6     6    6.0     9.0         2"
      ]
     },
     "execution_count": 4,
     "metadata": {},
     "output_type": "execute_result"
    }
   ],
   "source": [
    "gantt_df = gantt(R, p, schedule)\n",
    "gantt_df"
   ]
  },
  {
   "cell_type": "markdown",
   "metadata": {},
   "source": [
    "### SA evaluation\n",
    "Comparison of the solution quality between SA and LPT on problem instances for which LPT is known to be sub-optimal.\n",
    "\n",
    "Because SA is stochastic algorithm we take the mean value evaluated on `num_trials` per problem instance. Futhermore, each run uses `max_iters`.\n",
    "\n",
    "Finally, SA is evaluated for each of the following *tweak* operators:\n",
    "1. `vec_tweak` - for each task re-assign it to random resource with probabilyty `1/n` (`n` is no. tasks)\n",
    "1. `point_tweak` - pick a task at random and assign it to random resource\n",
    "1. `swap_tweak` - pick two tasks at random and swap the resources they are assigned to\n",
    "each operator is then used with/witout fitness penalty `#unused resources * M` where `M` is some big-enough constant (marked with P)."
   ]
  },
  {
   "cell_type": "code",
   "execution_count": 5,
   "metadata": {},
   "outputs": [],
   "source": [
    "tweak_operators = [vec_tweak, point_tweak, swap_tweak]\n",
    "\n",
    "def makespan(R, p, tweak, penalize):\n",
    "    _, m = anneal(R, p, tweak, max_iters, penalize=penalize)\n",
    "    return m\n",
    "\n",
    "def mean_makespan(R, p, tweak, penalize):\n",
    "    return sum(makespan(R, p, tweak, penalize) for _ in range(num_trials)) / num_trials\n",
    "\n",
    "def evaluate_tweak(tweak, penalize):\n",
    "    return pd.Series([mean_makespan(R, p, tweak, penalize) for R, p in problem_instances])"
   ]
  },
  {
   "cell_type": "code",
   "execution_count": 6,
   "metadata": {},
   "outputs": [
    {
     "data": {
      "text/html": [
       "<div>\n",
       "<style scoped>\n",
       "    .dataframe tbody tr th:only-of-type {\n",
       "        vertical-align: middle;\n",
       "    }\n",
       "\n",
       "    .dataframe tbody tr th {\n",
       "        vertical-align: top;\n",
       "    }\n",
       "\n",
       "    .dataframe thead th {\n",
       "        text-align: right;\n",
       "    }\n",
       "</style>\n",
       "<table border=\"1\" class=\"dataframe\">\n",
       "  <thead>\n",
       "    <tr style=\"text-align: right;\">\n",
       "      <th></th>\n",
       "      <th>opt-bound</th>\n",
       "      <th>lpt</th>\n",
       "      <th>vec_tweak</th>\n",
       "      <th>point_tweak</th>\n",
       "      <th>swap_tweak</th>\n",
       "    </tr>\n",
       "  </thead>\n",
       "  <tbody>\n",
       "    <tr>\n",
       "      <th>25</th>\n",
       "      <td>73.514851</td>\n",
       "      <td>99.0</td>\n",
       "      <td>133.6</td>\n",
       "      <td>133.2</td>\n",
       "      <td>142.6</td>\n",
       "    </tr>\n",
       "    <tr>\n",
       "      <th>26</th>\n",
       "      <td>76.514286</td>\n",
       "      <td>103.0</td>\n",
       "      <td>135.6</td>\n",
       "      <td>140.0</td>\n",
       "      <td>164.6</td>\n",
       "    </tr>\n",
       "    <tr>\n",
       "      <th>27</th>\n",
       "      <td>79.513761</td>\n",
       "      <td>107.0</td>\n",
       "      <td>142.2</td>\n",
       "      <td>141.8</td>\n",
       "      <td>164.0</td>\n",
       "    </tr>\n",
       "    <tr>\n",
       "      <th>28</th>\n",
       "      <td>82.513274</td>\n",
       "      <td>111.0</td>\n",
       "      <td>148.6</td>\n",
       "      <td>146.4</td>\n",
       "      <td>182.4</td>\n",
       "    </tr>\n",
       "    <tr>\n",
       "      <th>29</th>\n",
       "      <td>85.512821</td>\n",
       "      <td>115.0</td>\n",
       "      <td>156.4</td>\n",
       "      <td>154.8</td>\n",
       "      <td>169.8</td>\n",
       "    </tr>\n",
       "  </tbody>\n",
       "</table>\n",
       "</div>"
      ],
      "text/plain": [
       "    opt-bound    lpt  vec_tweak  point_tweak  swap_tweak\n",
       "25  73.514851   99.0      133.6        133.2       142.6\n",
       "26  76.514286  103.0      135.6        140.0       164.6\n",
       "27  79.513761  107.0      142.2        141.8       164.0\n",
       "28  82.513274  111.0      148.6        146.4       182.4\n",
       "29  85.512821  115.0      156.4        154.8       169.8"
      ]
     },
     "execution_count": 6,
     "metadata": {},
     "output_type": "execute_result"
    }
   ],
   "source": [
    "tweak_df = pd.DataFrame({tweak.__name__: evaluate_tweak(tweak, penalize=False) for tweak in tweak_operators})\n",
    "tweak_df = pd.concat([lpt_df, tweak_df], axis=1)\n",
    "tweak_df.tail()"
   ]
  },
  {
   "cell_type": "code",
   "execution_count": 7,
   "metadata": {},
   "outputs": [
    {
     "data": {
      "text/plain": [
       "<AxesSubplot:xlabel='#resources', ylabel='min. makespan (mean for SA)'>"
      ]
     },
     "execution_count": 7,
     "metadata": {},
     "output_type": "execute_result"
    },
    {
     "data": {
      "image/png": "[encoded data removed]",
      "text/plain": [
       "<Figure size 432x288 with 1 Axes>"
      ]
     },
     "metadata": {
      "needs_background": "light"
     },
     "output_type": "display_data"
    }
   ],
   "source": [
    "tweak_df.plot.line(xlabel='#resources', ylabel='min. makespan (mean for SA)')"
   ]
  },
  {
   "cell_type": "markdown",
   "metadata": {},
   "source": [
    "Now let's try one of the better tweak operators with a penalty to solution quality. This penalty is equal to `#unused resources * M` where `M` is some big-enough constant (e.g. `M = sum(p)`)."
   ]
  },
  {
   "cell_type": "code",
   "execution_count": 8,
   "metadata": {},
   "outputs": [
    {
     "data": {
      "text/plain": [
       "<AxesSubplot:xlabel='#resources', ylabel='mean min. makespan (vec_tweak)'>"
      ]
     },
     "execution_count": 8,
     "metadata": {},
     "output_type": "execute_result"
    },
    {
     "data": {
      "image/png": "[encoded data removed]",
      "text/plain": [
       "<Figure size 432x288 with 1 Axes>"
      ]
     },
     "metadata": {
      "needs_background": "light"
     },
     "output_type": "display_data"
    }
   ],
   "source": [
    "tweak_penalty_df = pd.DataFrame(\n",
    "    {\n",
    "        'without penalty': tweak_df['vec_tweak'],\n",
    "        'with penalty': evaluate_tweak(tweak=vec_tweak, penalize=True),\n",
    "    }\n",
    ")\n",
    "tweak_penalty_df.plot.line(xlabel='#resources', ylabel='mean min. makespan (vec_tweak)')"
   ]
  },
  {
   "cell_type": "markdown",
   "metadata": {},
   "source": [
    "## Evolutionary algorithms"
   ]
  },
  {
   "cell_type": "markdown",
   "metadata": {},
   "source": [
    "### Sanity check\n",
    "Note that the optimal value for this instance is 9."
   ]
  },
  {
   "cell_type": "code",
   "execution_count": 9,
   "metadata": {},
   "outputs": [
    {
     "data": {
      "text/plain": [
       "9.0"
      ]
     },
     "execution_count": 9,
     "metadata": {},
     "output_type": "execute_result"
    }
   ],
   "source": [
    "R = 3\n",
    "p = [5, 5, 4, 4, 3, 3, 3]\n",
    "\n",
    "schedule, makespan = evolve(R, p, two_point_crossover, mutate=mutation(vec_tweak, R))\n",
    "makespan"
   ]
  },
  {
   "cell_type": "code",
   "execution_count": 10,
   "metadata": {},
   "outputs": [
    {
     "data": {
      "text/html": [
       "<div>\n",
       "<style scoped>\n",
       "    .dataframe tbody tr th:only-of-type {\n",
       "        vertical-align: middle;\n",
       "    }\n",
       "\n",
       "    .dataframe tbody tr th {\n",
       "        vertical-align: top;\n",
       "    }\n",
       "\n",
       "    .dataframe thead th {\n",
       "        text-align: right;\n",
       "    }\n",
       "</style>\n",
       "<table border=\"1\" class=\"dataframe\">\n",
       "  <thead>\n",
       "    <tr style=\"text-align: right;\">\n",
       "      <th></th>\n",
       "      <th>task</th>\n",
       "      <th>start</th>\n",
       "      <th>finish</th>\n",
       "      <th>resource</th>\n",
       "    </tr>\n",
       "  </thead>\n",
       "  <tbody>\n",
       "    <tr>\n",
       "      <th>0</th>\n",
       "      <td>0</td>\n",
       "      <td>0.0</td>\n",
       "      <td>5.0</td>\n",
       "      <td>0</td>\n",
       "    </tr>\n",
       "    <tr>\n",
       "      <th>1</th>\n",
       "      <td>3</td>\n",
       "      <td>5.0</td>\n",
       "      <td>9.0</td>\n",
       "      <td>0</td>\n",
       "    </tr>\n",
       "    <tr>\n",
       "      <th>2</th>\n",
       "      <td>4</td>\n",
       "      <td>0.0</td>\n",
       "      <td>3.0</td>\n",
       "      <td>1</td>\n",
       "    </tr>\n",
       "    <tr>\n",
       "      <th>3</th>\n",
       "      <td>5</td>\n",
       "      <td>3.0</td>\n",
       "      <td>6.0</td>\n",
       "      <td>1</td>\n",
       "    </tr>\n",
       "    <tr>\n",
       "      <th>4</th>\n",
       "      <td>6</td>\n",
       "      <td>6.0</td>\n",
       "      <td>9.0</td>\n",
       "      <td>1</td>\n",
       "    </tr>\n",
       "    <tr>\n",
       "      <th>5</th>\n",
       "      <td>1</td>\n",
       "      <td>0.0</td>\n",
       "      <td>5.0</td>\n",
       "      <td>2</td>\n",
       "    </tr>\n",
       "    <tr>\n",
       "      <th>6</th>\n",
       "      <td>2</td>\n",
       "      <td>5.0</td>\n",
       "      <td>9.0</td>\n",
       "      <td>2</td>\n",
       "    </tr>\n",
       "  </tbody>\n",
       "</table>\n",
       "</div>"
      ],
      "text/plain": [
       "   task  start  finish  resource\n",
       "0     0    0.0     5.0         0\n",
       "1     3    5.0     9.0         0\n",
       "2     4    0.0     3.0         1\n",
       "3     5    3.0     6.0         1\n",
       "4     6    6.0     9.0         1\n",
       "5     1    0.0     5.0         2\n",
       "6     2    5.0     9.0         2"
      ]
     },
     "execution_count": 10,
     "metadata": {},
     "output_type": "execute_result"
    }
   ],
   "source": [
    "gantt_df = gantt(R, p, schedule)\n",
    "gantt_df"
   ]
  },
  {
   "cell_type": "markdown",
   "metadata": {},
   "source": [
    "### EA evaluation\n",
    "Comparison of the solution quality between EA and LPT on problem instances for which LPT is known to be sub-optimal.\n",
    "\n",
    "Because EA is stochastic algorithm we take the mean value evaluated on `num_trials` per problem instance. Futhermore, each run uses `max_iters`.\n",
    "\n",
    "Finally, EA uses `vec_tweak` as the mutation operator, `two_point_crossover` as the mating operator and we run it for \n",
    "* varying population sizes: 10, 100\n",
    "* with/witout fitness penalty `#unused resources * M` where `M` is some big-enough constant (marked with P)"
   ]
  },
  {
   "cell_type": "code",
   "execution_count": 11,
   "metadata": {},
   "outputs": [],
   "source": [
    "crossover = two_point_crossover\n",
    "tweak=vec_tweak\n",
    "pop_sizes = (10, 100)\n",
    "\n",
    "def makespan(R, p, pop_size, penalize):\n",
    "    _, m = evolve(\n",
    "        R=R,\n",
    "        p=p,\n",
    "        mate=crossover,\n",
    "        mutate=mutation(tweak, R),\n",
    "        pop_size=pop_size,\n",
    "        max_iters=max_iters,\n",
    "        penalize=penalize,\n",
    "    )\n",
    "    return m\n",
    "\n",
    "def mean_makespan(R, p, pop_size, penalize):\n",
    "    return sum(makespan(R, p, pop_size, penalize) for _ in range(num_trials)) / num_trials\n",
    "\n",
    "def evaluate_evolve(pop_size, penalize):\n",
    "    return pd.Series([mean_makespan(R, p, pop_size, penalize) for R, p in problem_instances])"
   ]
  },
  {
   "cell_type": "code",
   "execution_count": 12,
   "metadata": {},
   "outputs": [
    {
     "data": {
      "text/html": [
       "<div>\n",
       "<style scoped>\n",
       "    .dataframe tbody tr th:only-of-type {\n",
       "        vertical-align: middle;\n",
       "    }\n",
       "\n",
       "    .dataframe tbody tr th {\n",
       "        vertical-align: top;\n",
       "    }\n",
       "\n",
       "    .dataframe thead th {\n",
       "        text-align: right;\n",
       "    }\n",
       "</style>\n",
       "<table border=\"1\" class=\"dataframe\">\n",
       "  <thead>\n",
       "    <tr style=\"text-align: right;\">\n",
       "      <th></th>\n",
       "      <th>opt-bound</th>\n",
       "      <th>lpt</th>\n",
       "      <th>evolve-10</th>\n",
       "      <th>evolve-100</th>\n",
       "    </tr>\n",
       "  </thead>\n",
       "  <tbody>\n",
       "    <tr>\n",
       "      <th>25</th>\n",
       "      <td>73.514851</td>\n",
       "      <td>99.0</td>\n",
       "      <td>91.2</td>\n",
       "      <td>90.8</td>\n",
       "    </tr>\n",
       "    <tr>\n",
       "      <th>26</th>\n",
       "      <td>76.514286</td>\n",
       "      <td>103.0</td>\n",
       "      <td>104.0</td>\n",
       "      <td>95.0</td>\n",
       "    </tr>\n",
       "    <tr>\n",
       "      <th>27</th>\n",
       "      <td>79.513761</td>\n",
       "      <td>107.0</td>\n",
       "      <td>98.8</td>\n",
       "      <td>100.6</td>\n",
       "    </tr>\n",
       "    <tr>\n",
       "      <th>28</th>\n",
       "      <td>82.513274</td>\n",
       "      <td>111.0</td>\n",
       "      <td>105.8</td>\n",
       "      <td>105.0</td>\n",
       "    </tr>\n",
       "    <tr>\n",
       "      <th>29</th>\n",
       "      <td>85.512821</td>\n",
       "      <td>115.0</td>\n",
       "      <td>111.6</td>\n",
       "      <td>106.6</td>\n",
       "    </tr>\n",
       "  </tbody>\n",
       "</table>\n",
       "</div>"
      ],
      "text/plain": [
       "    opt-bound    lpt  evolve-10  evolve-100\n",
       "25  73.514851   99.0       91.2        90.8\n",
       "26  76.514286  103.0      104.0        95.0\n",
       "27  79.513761  107.0       98.8       100.6\n",
       "28  82.513274  111.0      105.8       105.0\n",
       "29  85.512821  115.0      111.6       106.6"
      ]
     },
     "execution_count": 12,
     "metadata": {},
     "output_type": "execute_result"
    }
   ],
   "source": [
    "evolve_df = pd.DataFrame({f'evolve-{pop_size}': evaluate_evolve(pop_size, penalize=False) for pop_size in pop_sizes})\n",
    "evolve_df = pd.concat([lpt_df, evolve_df], axis=1)\n",
    "evolve_df.tail()"
   ]
  },
  {
   "cell_type": "code",
   "execution_count": 13,
   "metadata": {},
   "outputs": [
    {
     "data": {
      "text/plain": [
       "<AxesSubplot:xlabel='#resources', ylabel='min. makespan (mean for EA)'>"
      ]
     },
     "execution_count": 13,
     "metadata": {},
     "output_type": "execute_result"
    },
    {
     "data": {
      "image/png": "[encoded data removed]",
      "text/plain": [
       "<Figure size 432x288 with 1 Axes>"
      ]
     },
     "metadata": {
      "needs_background": "light"
     },
     "output_type": "display_data"
    }
   ],
   "source": [
    "evolve_df.plot.line(xlabel='#resources', ylabel='min. makespan (mean for EA)')"
   ]
  },
  {
   "cell_type": "markdown",
   "metadata": {},
   "source": [
    "Similarly to SA, let's check if using a penalty for unused resources helps to find better schedules."
   ]
  },
  {
   "cell_type": "code",
   "execution_count": 17,
   "metadata": {},
   "outputs": [
    {
     "data": {
      "text/plain": [
       "<AxesSubplot:xlabel='#resources', ylabel='min. makespan (mean for EA; pop=100)'>"
      ]
     },
     "execution_count": 17,
     "metadata": {},
     "output_type": "execute_result"
    },
    {
     "data": {
      "image/png": "[encoded data removed]",
      "text/plain": [
       "<Figure size 432x288 with 1 Axes>"
      ]
     },
     "metadata": {
      "needs_background": "light"
     },
     "output_type": "display_data"
    }
   ],
   "source": [
    "penalty_df = pd.DataFrame(\n",
    "    {\n",
    "        'witout penalty': evolve_df['evolve-100'],\n",
    "        'with penalty': evaluate_evolve(pop_size=100, penalize=True),\n",
    "    }\n",
    ")\n",
    "penalty_df = pd.concat([lpt_df, penalty_df], axis=1)\n",
    "penalty_df.plot.line(xlabel='#resources', ylabel='min. makespan (mean for EA; pop=100)')"
   ]
  },
  {
   "cell_type": "code",
   "execution_count": null,
   "metadata": {},
   "outputs": [],
   "source": []
  }
 ],
 "metadata": {
  "kernelspec": {
   "display_name": "Python 3",
   "language": "python",
   "name": "python3"
  },
  "language_info": {
   "codemirror_mode": {
    "name": "ipython",
    "version": 3
   },
   "file_extension": ".py",
   "mimetype": "text/x-python",
   "name": "python",
   "nbconvert_exporter": "python",
   "pygments_lexer": "ipython3",
   "version": "3.8.5"
  }
 },
 "nbformat": 4,
 "nbformat_minor": 4
}
