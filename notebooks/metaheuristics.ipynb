{
 "cells": [
  {
   "cell_type": "markdown",
   "metadata": {},
   "source": [
    "# Metaheuristic Algorithms\n",
    "Following sections try some techniques from stochasitic optimization, also known as *metaheuristics*."
   ]
  },
  {
   "cell_type": "code",
   "execution_count": 1,
   "metadata": {},
   "outputs": [],
   "source": [
    "import sys\n",
    "sys.path.append('../src/')\n",
    "\n",
    "%load_ext autoreload\n",
    "%autoreload 2\n",
    "%matplotlib inline\n",
    "\n",
    "import pandas as pd\n",
    "import matplotlib\n",
    "import matplotlib.pyplot as plt\n",
    "\n",
    "from alg import *\n",
    "from utils import *"
   ]
  },
  {
   "cell_type": "code",
   "execution_count": 2,
   "metadata": {},
   "outputs": [
    {
     "data": {
      "text/plain": [
       "<AxesSubplot:xlabel='#resources', ylabel='min. makespan'>"
      ]
     },
     "execution_count": 2,
     "metadata": {},
     "output_type": "execute_result"
    },
    {
     "data": {
      "image/png": "[encoded data removed]",
      "text/plain": [
       "<Figure size 432x288 with 1 Axes>"
      ]
     },
     "metadata": {
      "needs_background": "light"
     },
     "output_type": "display_data"
    }
   ],
   "source": [
    "num_instances = 30\n",
    "num_trials = 5\n",
    "max_iters = 1000\n",
    "\n",
    "problem_instances = list(generate_subopt_instances(num_instances))\n",
    "\n",
    "def eval_lpt(R, p):\n",
    "    _, m, r, = lpt(R, p)\n",
    "    return m / r, m\n",
    "\n",
    "lpt_df = pd.DataFrame((eval_lpt(R, p) for R, p in problem_instances), columns=['opt-bound', 'lpt'])\n",
    "lpt_df.plot.line(xlabel='#resources', ylabel='min. makespan')"
   ]
  },
  {
   "cell_type": "markdown",
   "metadata": {},
   "source": [
    "## Simulated Annealing"
   ]
  },
  {
   "cell_type": "markdown",
   "metadata": {},
   "source": [
    "### Sanity check\n",
    "Note that the optimal value for this instance is 9."
   ]
  },
  {
   "cell_type": "code",
   "execution_count": 3,
   "metadata": {},
   "outputs": [
    {
     "data": {
      "text/plain": [
       "9.0"
      ]
     },
     "execution_count": 3,
     "metadata": {},
     "output_type": "execute_result"
    }
   ],
   "source": [
    "R = 3\n",
    "p = [5, 5, 4, 4, 3, 3, 3]\n",
    "\n",
    "schedule, makespan = anneal(R, p)\n",
    "makespan"
   ]
  },
  {
   "cell_type": "code",
   "execution_count": 4,
   "metadata": {},
   "outputs": [
    {
     "data": {
      "text/html": [
       "<div>\n",
       "<style scoped>\n",
       "    .dataframe tbody tr th:only-of-type {\n",
       "        vertical-align: middle;\n",
       "    }\n",
       "\n",
       "    .dataframe tbody tr th {\n",
       "        vertical-align: top;\n",
       "    }\n",
       "\n",
       "    .dataframe thead th {\n",
       "        text-align: right;\n",
       "    }\n",
       "</style>\n",
       "<table border=\"1\" class=\"dataframe\">\n",
       "  <thead>\n",
       "    <tr style=\"text-align: right;\">\n",
       "      <th></th>\n",
       "      <th>task</th>\n",
       "      <th>start</th>\n",
       "      <th>finish</th>\n",
       "      <th>resource</th>\n",
       "    </tr>\n",
       "  </thead>\n",
       "  <tbody>\n",
       "    <tr>\n",
       "      <th>0</th>\n",
       "      <td>1</td>\n",
       "      <td>0.0</td>\n",
       "      <td>5.0</td>\n",
       "      <td>0</td>\n",
       "    </tr>\n",
       "    <tr>\n",
       "      <th>1</th>\n",
       "      <td>2</td>\n",
       "      <td>5.0</td>\n",
       "      <td>9.0</td>\n",
       "      <td>0</td>\n",
       "    </tr>\n",
       "    <tr>\n",
       "      <th>2</th>\n",
       "      <td>0</td>\n",
       "      <td>0.0</td>\n",
       "      <td>5.0</td>\n",
       "      <td>1</td>\n",
       "    </tr>\n",
       "    <tr>\n",
       "      <th>3</th>\n",
       "      <td>3</td>\n",
       "      <td>5.0</td>\n",
       "      <td>9.0</td>\n",
       "      <td>1</td>\n",
       "    </tr>\n",
       "    <tr>\n",
       "      <th>4</th>\n",
       "      <td>4</td>\n",
       "      <td>0.0</td>\n",
       "      <td>3.0</td>\n",
       "      <td>2</td>\n",
       "    </tr>\n",
       "    <tr>\n",
       "      <th>5</th>\n",
       "      <td>5</td>\n",
       "      <td>3.0</td>\n",
       "      <td>6.0</td>\n",
       "      <td>2</td>\n",
       "    </tr>\n",
       "    <tr>\n",
       "      <th>6</th>\n",
       "      <td>6</td>\n",
       "      <td>6.0</td>\n",
       "      <td>9.0</td>\n",
       "      <td>2</td>\n",
       "    </tr>\n",
       "  </tbody>\n",
       "</table>\n",
       "</div>"
      ],
      "text/plain": [
       "   task  start  finish  resource\n",
       "0     1    0.0     5.0         0\n",
       "1     2    5.0     9.0         0\n",
       "2     0    0.0     5.0         1\n",
       "3     3    5.0     9.0         1\n",
       "4     4    0.0     3.0         2\n",
       "5     5    3.0     6.0         2\n",
       "6     6    6.0     9.0         2"
      ]
     },
     "execution_count": 4,
     "metadata": {},
     "output_type": "execute_result"
    }
   ],
   "source": [
    "gantt_df = gantt(R, p, schedule)\n",
    "gantt_df"
   ]
  },
  {
   "cell_type": "markdown",
   "metadata": {},
   "source": [
    "### SA evaluation\n",
    "Comparison of the solution quality between SA and LPT on problem instances for which LPT is known to be sub-optimal.\n",
    "\n",
    "Because SA is stochastic algorithm we take the mean value evaluated on `num_trials` per problem instance. Futhermore, each run uses `max_iters`.\n",
    "\n",
    "Finally, SA is evaluated for each of the following *tweak* operators:\n",
    "1. `vec_tweak` - for each task re-assign it to random resource with probabilyty `1/n` (`n` is no. tasks)\n",
    "1. `point_tweak` - pick a task at random and assign it to random resource\n",
    "1. `swap_tweak` - pick two tasks at random and swap the resources they are assigned to"
   ]
  },
  {
   "cell_type": "code",
   "execution_count": 5,
   "metadata": {},
   "outputs": [],
   "source": [
    "tweak_operators = [vec_tweak, point_tweak, swap_tweak]\n",
    "\n",
    "def makespan(R, p, tweak):\n",
    "    _, m = anneal(R, p, tweak, max_iters)\n",
    "    return m\n",
    "\n",
    "def mean_makespan(R, p, tweak):\n",
    "    return sum(makespan(R, p, tweak) for _ in range(num_trials)) / num_trials\n",
    "\n",
    "def evaluate_tweak(tweak):\n",
    "    return pd.Series([mean_makespan(R, p, tweak) for R, p in problem_instances])"
   ]
  },
  {
   "cell_type": "code",
   "execution_count": 6,
   "metadata": {},
   "outputs": [
    {
     "data": {
      "text/html": [
       "<div>\n",
       "<style scoped>\n",
       "    .dataframe tbody tr th:only-of-type {\n",
       "        vertical-align: middle;\n",
       "    }\n",
       "\n",
       "    .dataframe tbody tr th {\n",
       "        vertical-align: top;\n",
       "    }\n",
       "\n",
       "    .dataframe thead th {\n",
       "        text-align: right;\n",
       "    }\n",
       "</style>\n",
       "<table border=\"1\" class=\"dataframe\">\n",
       "  <thead>\n",
       "    <tr style=\"text-align: right;\">\n",
       "      <th></th>\n",
       "      <th>opt-bound</th>\n",
       "      <th>lpt</th>\n",
       "      <th>vec_tweak</th>\n",
       "      <th>point_tweak</th>\n",
       "      <th>swap_tweak</th>\n",
       "    </tr>\n",
       "  </thead>\n",
       "  <tbody>\n",
       "    <tr>\n",
       "      <th>25</th>\n",
       "      <td>73.514851</td>\n",
       "      <td>99.0</td>\n",
       "      <td>131.4</td>\n",
       "      <td>132.6</td>\n",
       "      <td>158.8</td>\n",
       "    </tr>\n",
       "    <tr>\n",
       "      <th>26</th>\n",
       "      <td>76.514286</td>\n",
       "      <td>103.0</td>\n",
       "      <td>139.0</td>\n",
       "      <td>139.0</td>\n",
       "      <td>136.2</td>\n",
       "    </tr>\n",
       "    <tr>\n",
       "      <th>27</th>\n",
       "      <td>79.513761</td>\n",
       "      <td>107.0</td>\n",
       "      <td>141.2</td>\n",
       "      <td>142.6</td>\n",
       "      <td>176.8</td>\n",
       "    </tr>\n",
       "    <tr>\n",
       "      <th>28</th>\n",
       "      <td>82.513274</td>\n",
       "      <td>111.0</td>\n",
       "      <td>156.0</td>\n",
       "      <td>153.8</td>\n",
       "      <td>185.8</td>\n",
       "    </tr>\n",
       "    <tr>\n",
       "      <th>29</th>\n",
       "      <td>85.512821</td>\n",
       "      <td>115.0</td>\n",
       "      <td>153.0</td>\n",
       "      <td>162.0</td>\n",
       "      <td>181.2</td>\n",
       "    </tr>\n",
       "  </tbody>\n",
       "</table>\n",
       "</div>"
      ],
      "text/plain": [
       "    opt-bound    lpt  vec_tweak  point_tweak  swap_tweak\n",
       "25  73.514851   99.0      131.4        132.6       158.8\n",
       "26  76.514286  103.0      139.0        139.0       136.2\n",
       "27  79.513761  107.0      141.2        142.6       176.8\n",
       "28  82.513274  111.0      156.0        153.8       185.8\n",
       "29  85.512821  115.0      153.0        162.0       181.2"
      ]
     },
     "execution_count": 6,
     "metadata": {},
     "output_type": "execute_result"
    }
   ],
   "source": [
    "tweak_df = pd.DataFrame({tweak.__name__: evaluate_tweak(tweak) for tweak in tweak_operators})\n",
    "tweak_df = pd.concat([lpt_df, tweak_df], axis=1)\n",
    "tweak_df.tail()"
   ]
  },
  {
   "cell_type": "code",
   "execution_count": 7,
   "metadata": {},
   "outputs": [
    {
     "data": {
      "text/plain": [
       "<AxesSubplot:xlabel='#resources', ylabel='min. makespan'>"
      ]
     },
     "execution_count": 7,
     "metadata": {},
     "output_type": "execute_result"
    },
    {
     "data": {
      "image/png": "[encoded data removed]",
      "text/plain": [
       "<Figure size 432x288 with 1 Axes>"
      ]
     },
     "metadata": {
      "needs_background": "light"
     },
     "output_type": "display_data"
    }
   ],
   "source": [
    "tweak_df.plot.line(xlabel='#resources', ylabel='min. makespan')"
   ]
  },
  {
   "cell_type": "markdown",
   "metadata": {},
   "source": [
    "## Evolutionary algorithms"
   ]
  },
  {
   "cell_type": "markdown",
   "metadata": {},
   "source": [
    "### Sanity check\n",
    "Note that the optimal value for this instance is 9."
   ]
  },
  {
   "cell_type": "code",
   "execution_count": 8,
   "metadata": {},
   "outputs": [
    {
     "data": {
      "text/plain": [
       "9.0"
      ]
     },
     "execution_count": 8,
     "metadata": {},
     "output_type": "execute_result"
    }
   ],
   "source": [
    "R = 3\n",
    "p = [5, 5, 4, 4, 3, 3, 3]\n",
    "\n",
    "schedule, makespan = evolve(R, p, two_point_crossover, mutate=mutation(vec_tweak, R))\n",
    "makespan"
   ]
  },
  {
   "cell_type": "code",
   "execution_count": 9,
   "metadata": {},
   "outputs": [
    {
     "data": {
      "text/html": [
       "<div>\n",
       "<style scoped>\n",
       "    .dataframe tbody tr th:only-of-type {\n",
       "        vertical-align: middle;\n",
       "    }\n",
       "\n",
       "    .dataframe tbody tr th {\n",
       "        vertical-align: top;\n",
       "    }\n",
       "\n",
       "    .dataframe thead th {\n",
       "        text-align: right;\n",
       "    }\n",
       "</style>\n",
       "<table border=\"1\" class=\"dataframe\">\n",
       "  <thead>\n",
       "    <tr style=\"text-align: right;\">\n",
       "      <th></th>\n",
       "      <th>task</th>\n",
       "      <th>start</th>\n",
       "      <th>finish</th>\n",
       "      <th>resource</th>\n",
       "    </tr>\n",
       "  </thead>\n",
       "  <tbody>\n",
       "    <tr>\n",
       "      <th>0</th>\n",
       "      <td>1</td>\n",
       "      <td>0.0</td>\n",
       "      <td>5.0</td>\n",
       "      <td>0</td>\n",
       "    </tr>\n",
       "    <tr>\n",
       "      <th>1</th>\n",
       "      <td>2</td>\n",
       "      <td>5.0</td>\n",
       "      <td>9.0</td>\n",
       "      <td>0</td>\n",
       "    </tr>\n",
       "    <tr>\n",
       "      <th>2</th>\n",
       "      <td>4</td>\n",
       "      <td>0.0</td>\n",
       "      <td>3.0</td>\n",
       "      <td>1</td>\n",
       "    </tr>\n",
       "    <tr>\n",
       "      <th>3</th>\n",
       "      <td>5</td>\n",
       "      <td>3.0</td>\n",
       "      <td>6.0</td>\n",
       "      <td>1</td>\n",
       "    </tr>\n",
       "    <tr>\n",
       "      <th>4</th>\n",
       "      <td>6</td>\n",
       "      <td>6.0</td>\n",
       "      <td>9.0</td>\n",
       "      <td>1</td>\n",
       "    </tr>\n",
       "    <tr>\n",
       "      <th>5</th>\n",
       "      <td>0</td>\n",
       "      <td>0.0</td>\n",
       "      <td>5.0</td>\n",
       "      <td>2</td>\n",
       "    </tr>\n",
       "    <tr>\n",
       "      <th>6</th>\n",
       "      <td>3</td>\n",
       "      <td>5.0</td>\n",
       "      <td>9.0</td>\n",
       "      <td>2</td>\n",
       "    </tr>\n",
       "  </tbody>\n",
       "</table>\n",
       "</div>"
      ],
      "text/plain": [
       "   task  start  finish  resource\n",
       "0     1    0.0     5.0         0\n",
       "1     2    5.0     9.0         0\n",
       "2     4    0.0     3.0         1\n",
       "3     5    3.0     6.0         1\n",
       "4     6    6.0     9.0         1\n",
       "5     0    0.0     5.0         2\n",
       "6     3    5.0     9.0         2"
      ]
     },
     "execution_count": 9,
     "metadata": {},
     "output_type": "execute_result"
    }
   ],
   "source": [
    "gantt_df = gantt(R, p, schedule)\n",
    "gantt_df"
   ]
  },
  {
   "cell_type": "markdown",
   "metadata": {},
   "source": [
    "### EA evaluation\n",
    "Comparison of the solution quality between EA and LPT on problem instances for which LPT is known to be sub-optimal.\n",
    "\n",
    "Because EA is stochastic algorithm we take the mean value evaluated on `num_trials` per problem instance. Futhermore, each run uses `max_iters`.\n",
    "\n",
    "Finally, EA uses `vec_tweak` as the mutation operator, `two_point_crossover` as the mating operator and we run it for varying population sizes: 10, 100."
   ]
  },
  {
   "cell_type": "code",
   "execution_count": 10,
   "metadata": {},
   "outputs": [],
   "source": [
    "crossover = two_point_crossover\n",
    "tweak=vec_tweak\n",
    "pop_sizes = (10, 100)\n",
    "\n",
    "def makespan(R, p, pop_size):\n",
    "    _, m = evolve(\n",
    "        R=R,\n",
    "        p=p,\n",
    "        mate=crossover,\n",
    "        mutate=mutation(tweak, R),\n",
    "        pop_size=pop_size,\n",
    "        max_iters=max_iters,\n",
    "    )\n",
    "    return m\n",
    "\n",
    "def mean_makespan(R, p, pop_size):\n",
    "    return sum(makespan(R, p, pop_size) for _ in range(num_trials)) / num_trials\n",
    "\n",
    "def evaluate_evolve(pop_size):\n",
    "    return pd.Series([mean_makespan(R, p, pop_size) for R, p in problem_instances])"
   ]
  },
  {
   "cell_type": "code",
   "execution_count": 11,
   "metadata": {},
   "outputs": [
    {
     "data": {
      "text/html": [
       "<div>\n",
       "<style scoped>\n",
       "    .dataframe tbody tr th:only-of-type {\n",
       "        vertical-align: middle;\n",
       "    }\n",
       "\n",
       "    .dataframe tbody tr th {\n",
       "        vertical-align: top;\n",
       "    }\n",
       "\n",
       "    .dataframe thead th {\n",
       "        text-align: right;\n",
       "    }\n",
       "</style>\n",
       "<table border=\"1\" class=\"dataframe\">\n",
       "  <thead>\n",
       "    <tr style=\"text-align: right;\">\n",
       "      <th></th>\n",
       "      <th>opt-bound</th>\n",
       "      <th>lpt</th>\n",
       "      <th>evolve-10</th>\n",
       "      <th>evolve-100</th>\n",
       "    </tr>\n",
       "  </thead>\n",
       "  <tbody>\n",
       "    <tr>\n",
       "      <th>25</th>\n",
       "      <td>73.514851</td>\n",
       "      <td>99.0</td>\n",
       "      <td>95.0</td>\n",
       "      <td>93.4</td>\n",
       "    </tr>\n",
       "    <tr>\n",
       "      <th>26</th>\n",
       "      <td>76.514286</td>\n",
       "      <td>103.0</td>\n",
       "      <td>98.6</td>\n",
       "      <td>96.8</td>\n",
       "    </tr>\n",
       "    <tr>\n",
       "      <th>27</th>\n",
       "      <td>79.513761</td>\n",
       "      <td>107.0</td>\n",
       "      <td>101.8</td>\n",
       "      <td>98.2</td>\n",
       "    </tr>\n",
       "    <tr>\n",
       "      <th>28</th>\n",
       "      <td>82.513274</td>\n",
       "      <td>111.0</td>\n",
       "      <td>106.8</td>\n",
       "      <td>100.8</td>\n",
       "    </tr>\n",
       "    <tr>\n",
       "      <th>29</th>\n",
       "      <td>85.512821</td>\n",
       "      <td>115.0</td>\n",
       "      <td>111.4</td>\n",
       "      <td>107.2</td>\n",
       "    </tr>\n",
       "  </tbody>\n",
       "</table>\n",
       "</div>"
      ],
      "text/plain": [
       "    opt-bound    lpt  evolve-10  evolve-100\n",
       "25  73.514851   99.0       95.0        93.4\n",
       "26  76.514286  103.0       98.6        96.8\n",
       "27  79.513761  107.0      101.8        98.2\n",
       "28  82.513274  111.0      106.8       100.8\n",
       "29  85.512821  115.0      111.4       107.2"
      ]
     },
     "execution_count": 11,
     "metadata": {},
     "output_type": "execute_result"
    }
   ],
   "source": [
    "evolve_df = pd.DataFrame({f'evolve-{pop_size}': evaluate_evolve(pop_size) for pop_size in pop_sizes})\n",
    "evolve_df = pd.concat([lpt_df, evolve_df], axis=1)\n",
    "evolve_df.tail()"
   ]
  },
  {
   "cell_type": "code",
   "execution_count": 12,
   "metadata": {},
   "outputs": [
    {
     "data": {
      "text/plain": [
       "<AxesSubplot:xlabel='#resources', ylabel='min. makespan (mean for evolve)'>"
      ]
     },
     "execution_count": 12,
     "metadata": {},
     "output_type": "execute_result"
    },
    {
     "data": {
      "image/png": "[encoded data removed]",
      "text/plain": [
       "<Figure size 432x288 with 1 Axes>"
      ]
     },
     "metadata": {
      "needs_background": "light"
     },
     "output_type": "display_data"
    }
   ],
   "source": [
    "evolve_df.plot.line(xlabel='#resources', ylabel='min. makespan (mean for evolve)')"
   ]
  },
  {
   "cell_type": "code",
   "execution_count": null,
   "metadata": {},
   "outputs": [],
   "source": []
  }
 ],
 "metadata": {
  "kernelspec": {
   "display_name": "Python 3",
   "language": "python",
   "name": "python3"
  },
  "language_info": {
   "codemirror_mode": {
    "name": "ipython",
    "version": 3
   },
   "file_extension": ".py",
   "mimetype": "text/x-python",
   "name": "python",
   "nbconvert_exporter": "python",
   "pygments_lexer": "ipython3",
   "version": "3.8.5"
  }
 },
 "nbformat": 4,
 "nbformat_minor": 4
}
