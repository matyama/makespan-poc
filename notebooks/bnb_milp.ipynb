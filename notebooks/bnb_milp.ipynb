{
 "cells": [
  {
   "cell_type": "markdown",
   "metadata": {},
   "source": [
    "# B&B vs MILP"
   ]
  },
  {
   "cell_type": "code",
   "execution_count": 1,
   "metadata": {},
   "outputs": [],
   "source": [
    "import sys\n",
    "sys.path.append('../src/')\n",
    "\n",
    "%load_ext autoreload\n",
    "%autoreload 2\n",
    "%matplotlib inline\n",
    "\n",
    "from datetime import datetime, timedelta\n",
    "\n",
    "import pandas as pd\n",
    "import matplotlib\n",
    "import matplotlib.pyplot as plt\n",
    "import pulp as pl\n",
    "\n",
    "from alg import *\n",
    "from utils import *"
   ]
  },
  {
   "cell_type": "code",
   "execution_count": 2,
   "metadata": {},
   "outputs": [],
   "source": [
    "PT_MAX = 10\n",
    "NUM_TRIALS = 10\n",
    "\n",
    "INSTANCES = {}\n",
    "\n",
    "def rand_p(n, i):\n",
    "    if (n, i) not in INSTANCES:\n",
    "        INSTANCES[n, i] = random_instance(n, PT_MAX)\n",
    "    return INSTANCES[n, i]\n",
    "\n",
    "for n in range(100):\n",
    "    for i in range(NUM_TRIALS):\n",
    "        _ = rand_p(n, i)"
   ]
  },
  {
   "cell_type": "code",
   "execution_count": 3,
   "metadata": {},
   "outputs": [],
   "source": [
    "def bnb_time(R, p, h, remaining):\n",
    "    tic = datetime.now()\n",
    "    _ = bnb(R, p, h, limit=remaining)\n",
    "    return datetime.now() - tic\n",
    "\n",
    "def bnb_h1_time(R, p, remaining):\n",
    "    return bnb_time(R, p, h1, remaining)\n",
    "\n",
    "def bnb_h2_time(R, p, remaining):\n",
    "    return bnb_time(R, p, h2, remaining)\n",
    "\n",
    "def milp_time(R, p, remaining):\n",
    "    tic = datetime.now()\n",
    "    _ = milp(R, p, solver=pl.GLPK_CMD(timeLimit=int(remaining.total_seconds()), msg=False))\n",
    "    return datetime.now() - tic"
   ]
  },
  {
   "cell_type": "code",
   "execution_count": 4,
   "metadata": {},
   "outputs": [],
   "source": [
    "def timeit_rand(f, R, limit):\n",
    "    remaining = timedelta(seconds=limit.total_seconds())\n",
    "    times = []\n",
    "    n = 0\n",
    "    while remaining.total_seconds() > 0:\n",
    "        total = timedelta(0)\n",
    "        i = 0\n",
    "        while i < NUM_TRIALS and remaining.total_seconds() > 0:\n",
    "            consumed = f(R, rand_p(n, i), remaining)\n",
    "            total += consumed\n",
    "            remaining -= consumed\n",
    "            i += 1\n",
    "            \n",
    "        if i < NUM_TRIALS:\n",
    "            break\n",
    "\n",
    "        times.append(total.total_seconds() / NUM_TRIALS)\n",
    "        n += 1\n",
    "\n",
    "    return pd.Series(times)"
   ]
  },
  {
   "cell_type": "code",
   "execution_count": 5,
   "metadata": {},
   "outputs": [
    {
     "data": {
      "text/html": [
       "<div>\n",
       "<style scoped>\n",
       "    .dataframe tbody tr th:only-of-type {\n",
       "        vertical-align: middle;\n",
       "    }\n",
       "\n",
       "    .dataframe tbody tr th {\n",
       "        vertical-align: top;\n",
       "    }\n",
       "\n",
       "    .dataframe thead th {\n",
       "        text-align: right;\n",
       "    }\n",
       "</style>\n",
       "<table border=\"1\" class=\"dataframe\">\n",
       "  <thead>\n",
       "    <tr style=\"text-align: right;\">\n",
       "      <th></th>\n",
       "      <th>bnb_h1_time</th>\n",
       "      <th>bnb_h2_time</th>\n",
       "      <th>milp_time</th>\n",
       "    </tr>\n",
       "  </thead>\n",
       "  <tbody>\n",
       "    <tr>\n",
       "      <th>30</th>\n",
       "      <td>2.387684</td>\n",
       "      <td>1.114609</td>\n",
       "      <td>NaN</td>\n",
       "    </tr>\n",
       "    <tr>\n",
       "      <th>31</th>\n",
       "      <td>1.471986</td>\n",
       "      <td>0.678103</td>\n",
       "      <td>NaN</td>\n",
       "    </tr>\n",
       "    <tr>\n",
       "      <th>32</th>\n",
       "      <td>NaN</td>\n",
       "      <td>2.536143</td>\n",
       "      <td>NaN</td>\n",
       "    </tr>\n",
       "    <tr>\n",
       "      <th>33</th>\n",
       "      <td>NaN</td>\n",
       "      <td>1.024559</td>\n",
       "      <td>NaN</td>\n",
       "    </tr>\n",
       "    <tr>\n",
       "      <th>34</th>\n",
       "      <td>NaN</td>\n",
       "      <td>1.722884</td>\n",
       "      <td>NaN</td>\n",
       "    </tr>\n",
       "  </tbody>\n",
       "</table>\n",
       "</div>"
      ],
      "text/plain": [
       "    bnb_h1_time  bnb_h2_time  milp_time\n",
       "30     2.387684     1.114609        NaN\n",
       "31     1.471986     0.678103        NaN\n",
       "32          NaN     2.536143        NaN\n",
       "33          NaN     1.024559        NaN\n",
       "34          NaN     1.722884        NaN"
      ]
     },
     "execution_count": 5,
     "metadata": {},
     "output_type": "execute_result"
    }
   ],
   "source": [
    "df = pd.DataFrame({f.__name__: timeit_rand(f, R=8, limit=timedelta(minutes=2)) for f in [bnb_h1_time, bnb_h2_time, milp_time]})\n",
    "df.tail()"
   ]
  },
  {
   "cell_type": "code",
   "execution_count": 6,
   "metadata": {},
   "outputs": [
    {
     "data": {
      "text/plain": [
       "<AxesSubplot:xlabel='#tasks', ylabel='avg. runtime [s]'>"
      ]
     },
     "execution_count": 6,
     "metadata": {},
     "output_type": "execute_result"
    },
    {
     "data": {
      "image/png": "[encoded data removed]",
      "text/plain": [
       "<Figure size 432x288 with 1 Axes>"
      ]
     },
     "metadata": {
      "needs_background": "light"
     },
     "output_type": "display_data"
    }
   ],
   "source": [
    "df.plot.line(xlabel='#tasks', ylabel='avg. runtime [s]')"
   ]
  },
  {
   "cell_type": "code",
   "execution_count": 7,
   "metadata": {},
   "outputs": [],
   "source": [
    "def timeit_subopt(f, limit):\n",
    "    remaining = timedelta(seconds=limit.total_seconds())\n",
    "    times = []\n",
    "    R = 0\n",
    "    while remaining.total_seconds() > 0:\n",
    "        consumed = f(R, suboptimal_instance(R), remaining)\n",
    "        times.append(consumed)\n",
    "        remaining -= consumed\n",
    "        R += 1\n",
    "    return pd.Series(times)"
   ]
  },
  {
   "cell_type": "code",
   "execution_count": 8,
   "metadata": {},
   "outputs": [
    {
     "data": {
      "text/html": [
       "<div>\n",
       "<style scoped>\n",
       "    .dataframe tbody tr th:only-of-type {\n",
       "        vertical-align: middle;\n",
       "    }\n",
       "\n",
       "    .dataframe tbody tr th {\n",
       "        vertical-align: top;\n",
       "    }\n",
       "\n",
       "    .dataframe thead th {\n",
       "        text-align: right;\n",
       "    }\n",
       "</style>\n",
       "<table border=\"1\" class=\"dataframe\">\n",
       "  <thead>\n",
       "    <tr style=\"text-align: right;\">\n",
       "      <th></th>\n",
       "      <th>bnb_h1_time</th>\n",
       "      <th>bnb_h2_time</th>\n",
       "      <th>milp_time</th>\n",
       "    </tr>\n",
       "  </thead>\n",
       "  <tbody>\n",
       "    <tr>\n",
       "      <th>27</th>\n",
       "      <td>NaT</td>\n",
       "      <td>0 days 00:00:06.402932</td>\n",
       "      <td>NaT</td>\n",
       "    </tr>\n",
       "    <tr>\n",
       "      <th>28</th>\n",
       "      <td>NaT</td>\n",
       "      <td>0 days 00:00:37.348544</td>\n",
       "      <td>NaT</td>\n",
       "    </tr>\n",
       "    <tr>\n",
       "      <th>29</th>\n",
       "      <td>NaT</td>\n",
       "      <td>0 days 00:00:05.559169</td>\n",
       "      <td>NaT</td>\n",
       "    </tr>\n",
       "    <tr>\n",
       "      <th>30</th>\n",
       "      <td>NaT</td>\n",
       "      <td>0 days 00:00:06.360640</td>\n",
       "      <td>NaT</td>\n",
       "    </tr>\n",
       "    <tr>\n",
       "      <th>31</th>\n",
       "      <td>NaT</td>\n",
       "      <td>0 days 00:00:17.905068</td>\n",
       "      <td>NaT</td>\n",
       "    </tr>\n",
       "  </tbody>\n",
       "</table>\n",
       "</div>"
      ],
      "text/plain": [
       "   bnb_h1_time            bnb_h2_time milp_time\n",
       "27         NaT 0 days 00:00:06.402932       NaT\n",
       "28         NaT 0 days 00:00:37.348544       NaT\n",
       "29         NaT 0 days 00:00:05.559169       NaT\n",
       "30         NaT 0 days 00:00:06.360640       NaT\n",
       "31         NaT 0 days 00:00:17.905068       NaT"
      ]
     },
     "execution_count": 8,
     "metadata": {},
     "output_type": "execute_result"
    }
   ],
   "source": [
    "df = pd.DataFrame({f.__name__: timeit_subopt(f, limit=timedelta(minutes=2)) for f in [bnb_h1_time, bnb_h2_time, milp_time]})\n",
    "df.tail()"
   ]
  },
  {
   "cell_type": "code",
   "execution_count": 9,
   "metadata": {},
   "outputs": [
    {
     "data": {
      "text/plain": [
       "<AxesSubplot:xlabel='#resources', ylabel='runtime on subopt. instance [s]'>"
      ]
     },
     "execution_count": 9,
     "metadata": {},
     "output_type": "execute_result"
    },
    {
     "data": {
      "image/png": "[encoded data removed]",
      "text/plain": [
       "<Figure size 432x288 with 1 Axes>"
      ]
     },
     "metadata": {
      "needs_background": "light"
     },
     "output_type": "display_data"
    }
   ],
   "source": [
    "df.plot.line(xlabel='#resources', ylabel='runtime on subopt. instance [s]')"
   ]
  },
  {
   "cell_type": "code",
   "execution_count": null,
   "metadata": {},
   "outputs": [],
   "source": []
  }
 ],
 "metadata": {
  "kernelspec": {
   "display_name": "Python 3",
   "language": "python",
   "name": "python3"
  },
  "language_info": {
   "codemirror_mode": {
    "name": "ipython",
    "version": 3
   },
   "file_extension": ".py",
   "mimetype": "text/x-python",
   "name": "python",
   "nbconvert_exporter": "python",
   "pygments_lexer": "ipython3",
   "version": "3.8.5"
  }
 },
 "nbformat": 4,
 "nbformat_minor": 4
}
