{
 "cells": [
  {
   "cell_type": "markdown",
   "metadata": {},
   "source": [
    "# Crossover analysis for Evolutionary Algorithms"
   ]
  },
  {
   "cell_type": "code",
   "execution_count": 1,
   "metadata": {},
   "outputs": [],
   "source": [
    "import sys\n",
    "sys.path.append('../src/')\n",
    "\n",
    "%load_ext autoreload\n",
    "%autoreload 2\n",
    "%matplotlib inline\n",
    "\n",
    "import pandas as pd\n",
    "import matplotlib\n",
    "import matplotlib.pyplot as plt\n",
    "\n",
    "from alg import *\n",
    "from utils import *"
   ]
  },
  {
   "cell_type": "code",
   "execution_count": 2,
   "metadata": {},
   "outputs": [],
   "source": [
    "num_trials = 5\n",
    "pop_size = 100\n",
    "max_iters = 50\n",
    "resources = [5, 10, 15, 20]\n",
    "crossovers = [one_point_crossover, two_point_crossover, uniform_crossover]\n",
    "\n",
    "def opt_bound(R, p):\n",
    "    _, m, r, = lpt(R, p)\n",
    "    return m / r\n",
    "\n",
    "def lpt_value(R, p):\n",
    "    _, m, _, = lpt(R, p)\n",
    "    return m\n",
    "\n",
    "def makespan(R, p, xover):\n",
    "    _, m = evolve(\n",
    "        R=R,\n",
    "        p=p,\n",
    "        mate=xover,\n",
    "        mutate=mutation(vec_tweak, R),\n",
    "        pop_size=pop_size,\n",
    "        max_iters=max_iters,\n",
    "        penalize=False,\n",
    "    )\n",
    "    return m"
   ]
  },
  {
   "cell_type": "markdown",
   "metadata": {},
   "source": [
    "## Comparison on random instance\n",
    "* processing times are drawn uniformly from range `[1, 10)`\n",
    "* number of tasks is taken from set `{20, 40, 60, 80}`\n",
    "* each EA run is repeated and averaged 5 times\n",
    "* LPT value and worst-case optimality bound is aggregated to min.\n",
    "* final values for EA crossovers are normalized to LPT (i.e. `(quality(xover) - quality(opt-bound)) / (quality(LPT) - quality(opt-bound))`"
   ]
  },
  {
   "cell_type": "code",
   "execution_count": 3,
   "metadata": {},
   "outputs": [],
   "source": [
    "max_processing_time = 10\n",
    "ntasks = list(range(20, 100, 20))\n",
    "\n",
    "random_instances = {\n",
    "    (R, n, i): random_instance(n, high=max_processing_time)\n",
    "    for R in resources\n",
    "    for n in ntasks\n",
    "    for i in range(num_trials)\n",
    "}\n",
    "\n",
    "def eval_rand_lpt(R):\n",
    "    opt_bounds = pd.DataFrame(data=((opt_bound(R, random_instances[R, n, i]) for n in ntasks) for i in range(num_trials)), columns=ntasks)\n",
    "    lpt_vals = pd.DataFrame(data=((lpt_value(R, random_instances[R, n, i]) for n in ntasks) for i in range(num_trials)), columns=ntasks)\n",
    "    return pd.DataFrame({'opt_bound': opt_bounds.min(), 'lpt': lpt_vals.min()})\n",
    "\n",
    "def eval_rand_ea_xover(R, xover):\n",
    "    trials = pd.DataFrame(data=((makespan(R, random_instances[R, n, i], xover) for n in ntasks) for i in range(num_trials)), columns=ntasks)\n",
    "    return trials.mean()\n",
    "\n",
    "def eval_rand_ea(R):\n",
    "    return pd.DataFrame({xover.__name__: eval_rand_ea_xover(R, xover) for xover in crossovers})\n",
    "\n",
    "def eval_rand(R):\n",
    "    bounds = eval_rand_lpt(R)\n",
    "    xovers = eval_rand_ea(R)\n",
    "    return xovers.sub(bounds.opt_bound, axis=0).div(bounds.lpt - bounds.opt_bound, axis=0)"
   ]
  },
  {
   "cell_type": "code",
   "execution_count": 4,
   "metadata": {},
   "outputs": [],
   "source": [
    "# TODO: speedup\n",
    "# results = {R: eval_rand_ea(R) for R in resources}"
   ]
  },
  {
   "cell_type": "markdown",
   "metadata": {},
   "source": [
    "## Comparison on sub-optimal instance\n",
    "* each EA run is repeated and averaged 5 times\n",
    "* final values for EA crossovers are normalized to LPT (i.e. `(quality(xover) - quality(opt-bound)) / (quality(LPT) - quality(opt-bound))`"
   ]
  },
  {
   "cell_type": "code",
   "execution_count": 5,
   "metadata": {},
   "outputs": [],
   "source": [
    "def eval_subopt_lpt(R):\n",
    "    _, m, r, = lpt(R, p=suboptimal_instance(R))\n",
    "    return m / r, m\n",
    "\n",
    "def eval_subopt_ea(xover):\n",
    "    for R in resources:\n",
    "        yield sum(makespan(R, suboptimal_instance(R), xover) for _ in range(num_trials)) / num_trials"
   ]
  },
  {
   "cell_type": "code",
   "execution_count": 6,
   "metadata": {},
   "outputs": [
    {
     "data": {
      "text/html": [
       "<div>\n",
       "<style scoped>\n",
       "    .dataframe tbody tr th:only-of-type {\n",
       "        vertical-align: middle;\n",
       "    }\n",
       "\n",
       "    .dataframe tbody tr th {\n",
       "        vertical-align: top;\n",
       "    }\n",
       "\n",
       "    .dataframe thead th {\n",
       "        text-align: right;\n",
       "    }\n",
       "</style>\n",
       "<table border=\"1\" class=\"dataframe\">\n",
       "  <thead>\n",
       "    <tr style=\"text-align: right;\">\n",
       "      <th></th>\n",
       "      <th>opt_bound</th>\n",
       "      <th>lpt</th>\n",
       "      <th>one_point_crossover</th>\n",
       "      <th>two_point_crossover</th>\n",
       "      <th>uniform_crossover</th>\n",
       "    </tr>\n",
       "  </thead>\n",
       "  <tbody>\n",
       "    <tr>\n",
       "      <th>5</th>\n",
       "      <td>13.571429</td>\n",
       "      <td>19.0</td>\n",
       "      <td>16.0</td>\n",
       "      <td>15.6</td>\n",
       "      <td>15.6</td>\n",
       "    </tr>\n",
       "    <tr>\n",
       "      <th>10</th>\n",
       "      <td>28.536585</td>\n",
       "      <td>39.0</td>\n",
       "      <td>35.6</td>\n",
       "      <td>35.4</td>\n",
       "      <td>34.8</td>\n",
       "    </tr>\n",
       "    <tr>\n",
       "      <th>15</th>\n",
       "      <td>43.524590</td>\n",
       "      <td>59.0</td>\n",
       "      <td>55.8</td>\n",
       "      <td>57.4</td>\n",
       "      <td>54.6</td>\n",
       "    </tr>\n",
       "    <tr>\n",
       "      <th>20</th>\n",
       "      <td>58.518519</td>\n",
       "      <td>79.0</td>\n",
       "      <td>80.8</td>\n",
       "      <td>83.0</td>\n",
       "      <td>79.8</td>\n",
       "    </tr>\n",
       "  </tbody>\n",
       "</table>\n",
       "</div>"
      ],
      "text/plain": [
       "    opt_bound   lpt  one_point_crossover  two_point_crossover  \\\n",
       "5   13.571429  19.0                 16.0                 15.6   \n",
       "10  28.536585  39.0                 35.6                 35.4   \n",
       "15  43.524590  59.0                 55.8                 57.4   \n",
       "20  58.518519  79.0                 80.8                 83.0   \n",
       "\n",
       "    uniform_crossover  \n",
       "5                15.6  \n",
       "10               34.8  \n",
       "15               54.6  \n",
       "20               79.8  "
      ]
     },
     "execution_count": 6,
     "metadata": {},
     "output_type": "execute_result"
    }
   ],
   "source": [
    "lpt_df = pd.DataFrame(data=(eval_subopt_lpt(R) for R in resources), index=resources, columns=['opt_bound', 'lpt'])\n",
    "ea_df = pd.DataFrame({xover.__name__: eval_subopt_ea(xover) for xover in crossovers}, index=resources)\n",
    "\n",
    "pd.concat([lpt_df, ea_df], axis=1)"
   ]
  },
  {
   "cell_type": "code",
   "execution_count": 7,
   "metadata": {},
   "outputs": [
    {
     "data": {
      "text/plain": [
       "<AxesSubplot:title={'center':'Quality relative to LPT for sub-optimal instances'}, ylabel='norm. quality(EA)/quality(LPT)'>"
      ]
     },
     "execution_count": 7,
     "metadata": {},
     "output_type": "execute_result"
    },
    {
     "data": {
      "image/png": "[encoded data removed]",
      "text/plain": [
       "<Figure size 432x288 with 1 Axes>"
      ]
     },
     "metadata": {
      "needs_background": "light"
     },
     "output_type": "display_data"
    }
   ],
   "source": [
    "df = ea_df.sub(lpt_df.opt_bound, axis=0).div(lpt_df.lpt - lpt_df.opt_bound, axis=0)\n",
    "df.plot.barh(xlabel='norm. quality(EA)/quality(LPT)', ylabel='#resources (R)', title='Quality relative to LPT for sub-optimal instances')"
   ]
  },
  {
   "cell_type": "code",
   "execution_count": null,
   "metadata": {},
   "outputs": [],
   "source": []
  }
 ],
 "metadata": {
  "kernelspec": {
   "display_name": "Python 3",
   "language": "python",
   "name": "python3"
  },
  "language_info": {
   "codemirror_mode": {
    "name": "ipython",
    "version": 3
   },
   "file_extension": ".py",
   "mimetype": "text/x-python",
   "name": "python",
   "nbconvert_exporter": "python",
   "pygments_lexer": "ipython3",
   "version": "3.8.5"
  }
 },
 "nbformat": 4,
 "nbformat_minor": 4
}
