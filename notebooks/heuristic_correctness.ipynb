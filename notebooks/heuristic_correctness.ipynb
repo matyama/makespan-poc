{
 "cells": [
  {
   "cell_type": "markdown",
   "metadata": {},
   "source": [
    "# Heuristic correctness\n",
    "Checks that the objective value (min makespan) in optimum is the same for heuristics h1 and h2."
   ]
  },
  {
   "cell_type": "code",
   "execution_count": 6,
   "metadata": {},
   "outputs": [
    {
     "name": "stdout",
     "output_type": "stream",
     "text": [
      "The autoreload extension is already loaded. To reload it, use:\n",
      "  %reload_ext autoreload\n"
     ]
    }
   ],
   "source": [
    "import sys\n",
    "sys.path.append('../src/')\n",
    "\n",
    "%load_ext autoreload\n",
    "%autoreload 2\n",
    "\n",
    "import numpy as np\n",
    "import pandas as pd\n",
    "\n",
    "from alg import *\n",
    "from utils import *"
   ]
  },
  {
   "cell_type": "code",
   "execution_count": 7,
   "metadata": {},
   "outputs": [],
   "source": [
    "pt_max = 10\n",
    "num_trials = 10\n",
    "N = 30\n",
    "num_resources = 20\n",
    "\n",
    "instances = {\n",
    "    (n, i): random_instance(n, pt_max)\n",
    "    for n in range(N)\n",
    "    for i in range(num_trials)\n",
    "}"
   ]
  },
  {
   "cell_type": "code",
   "execution_count": 9,
   "metadata": {},
   "outputs": [
    {
     "name": "stdout",
     "output_type": "stream",
     "text": [
      "R=0 OK\n",
      "R=1 OK\n",
      "R=2 OK\n",
      "R=3 OK\n",
      "R=4 OK\n",
      "R=5 OK\n",
      "R=6 OK\n",
      "R=7 OK\n",
      "R=8 OK\n",
      "R=9 OK\n",
      "R=10 OK\n",
      "R=11 OK\n",
      "R=12 OK\n",
      "R=13 OK\n",
      "R=14 OK\n",
      "R=15 OK\n",
      "R=16 OK\n",
      "R=17 OK\n",
      "R=18 OK\n",
      "R=19 OK\n"
     ]
    }
   ],
   "source": [
    "for R, p_sub in generate_subopt_instances(num_resources):\n",
    "    \n",
    "    v1, v2 = evaluate(lambda s: s.makespan, R, p_sub, h1), evaluate(lambda s: s.makespan, R, p_sub, h2)\n",
    "    if v1 != v2:\n",
    "        print(f'v1(R={R}, p_sub) = {v1} != {v2} = v2(R={R}, p_sub)')\n",
    "        continue\n",
    "    \n",
    "    for n in range(N):\n",
    "        fail = any(\n",
    "            evaluate(lambda s: s.makespan, R, instances[n, i], h1) != evaluate(lambda s: s.makespan, R, instances[n, i], h2) \n",
    "            for i in range(num_trials)\n",
    "        )\n",
    "        \n",
    "        if fail:\n",
    "            print(f'v1(R={R}, n={n}, p_rand) != v2(R={R}, n={n}, p_rand)')\n",
    "            continue\n",
    "    \n",
    "    print(f'R={R} OK')"
   ]
  },
  {
   "cell_type": "code",
   "execution_count": null,
   "metadata": {},
   "outputs": [],
   "source": []
  }
 ],
 "metadata": {
  "kernelspec": {
   "display_name": "Python 3",
   "language": "python",
   "name": "python3"
  },
  "language_info": {
   "codemirror_mode": {
    "name": "ipython",
    "version": 3
   },
   "file_extension": ".py",
   "mimetype": "text/x-python",
   "name": "python",
   "nbconvert_exporter": "python",
   "pygments_lexer": "ipython3",
   "version": "3.8.2"
  }
 },
 "nbformat": 4,
 "nbformat_minor": 4
}
